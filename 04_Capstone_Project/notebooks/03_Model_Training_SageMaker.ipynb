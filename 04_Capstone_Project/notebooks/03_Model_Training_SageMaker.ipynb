{
 "cells": [
  {
   "cell_type": "markdown",
   "metadata": {},
   "source": [
    "# 03 - Model training and deployment using SageMaker\n",
    "\n",
    "This notebook will cover the data modeling and deployment using AWS resources"
   ]
  },
  {
   "cell_type": "markdown",
   "metadata": {},
   "source": [
    "## Table of Contents\n",
    "* [1. Package & Data Import](#chapter1)\n",
    "* [2. Upload Data to S3](#chapter2)\n",
    "    * [2.1 Prepare Data](#chapter2.1)\n",
    "    * [2.2 Uploading training data](#chapter2.2)\n",
    "* [3. Model Training and Deployment](#chapter3)\n",
    "    * [3.1. Train base model](#chapter3.2)\n",
    "    * [3.2. Deploy and evaluate base model](#chapter3.2)\n",
    "    * [3.3 Main model - LSTM Neural Network](#chapter3.3)\n",
    "* [4. Train/Test Split](#chapter4)\n",
    "* [5. Feature Engineering](#chapter5)\n",
    "* [6. Save data for Modeling](#chapter6)"
   ]
  },
  {
   "cell_type": "markdown",
   "metadata": {},
   "source": [
    "### 1. Package & Data Import <a class=\"anchor\" id=\"chapter1\"></a>\n",
    "***"
   ]
  },
  {
   "cell_type": "code",
   "execution_count": 1,
   "metadata": {},
   "outputs": [],
   "source": [
    "# Basic packages\n",
    "import pandas as pd\n",
    "import numpy as np\n",
    "import matplotlib.pyplot as plt\n",
    "import seaborn as sns\n",
    "import boto3\n",
    "\n",
    "import os"
   ]
  },
  {
   "cell_type": "code",
   "execution_count": 2,
   "metadata": {
    "scrolled": true
   },
   "outputs": [
    {
     "name": "stdout",
     "output_type": "stream",
     "text": [
      "Collecting sagemaker==1.72.0\n",
      "  Downloading sagemaker-1.72.0.tar.gz (297 kB)\n",
      "\u001b[K     |████████████████████████████████| 297 kB 5.2 MB/s eta 0:00:01\n",
      "\u001b[?25hRequirement already satisfied: boto3>=1.14.12 in /home/ec2-user/anaconda3/envs/pytorch_p36/lib/python3.6/site-packages (from sagemaker==1.72.0) (1.17.55)\n",
      "Requirement already satisfied: numpy>=1.9.0 in /home/ec2-user/anaconda3/envs/pytorch_p36/lib/python3.6/site-packages (from sagemaker==1.72.0) (1.19.5)\n",
      "Requirement already satisfied: protobuf>=3.1 in /home/ec2-user/anaconda3/envs/pytorch_p36/lib/python3.6/site-packages (from sagemaker==1.72.0) (3.15.2)\n",
      "Requirement already satisfied: scipy>=0.19.0 in /home/ec2-user/anaconda3/envs/pytorch_p36/lib/python3.6/site-packages (from sagemaker==1.72.0) (1.5.3)\n",
      "Requirement already satisfied: protobuf3-to-dict>=0.1.5 in /home/ec2-user/anaconda3/envs/pytorch_p36/lib/python3.6/site-packages (from sagemaker==1.72.0) (0.1.5)\n",
      "Collecting smdebug-rulesconfig==0.1.4\n",
      "  Downloading smdebug_rulesconfig-0.1.4-py2.py3-none-any.whl (10 kB)\n",
      "Requirement already satisfied: importlib-metadata>=1.4.0 in /home/ec2-user/anaconda3/envs/pytorch_p36/lib/python3.6/site-packages (from sagemaker==1.72.0) (3.7.0)\n",
      "Requirement already satisfied: packaging>=20.0 in /home/ec2-user/anaconda3/envs/pytorch_p36/lib/python3.6/site-packages (from sagemaker==1.72.0) (20.9)\n",
      "Requirement already satisfied: botocore<1.21.0,>=1.20.55 in /home/ec2-user/anaconda3/envs/pytorch_p36/lib/python3.6/site-packages (from boto3>=1.14.12->sagemaker==1.72.0) (1.20.55)\n",
      "Requirement already satisfied: jmespath<1.0.0,>=0.7.1 in /home/ec2-user/anaconda3/envs/pytorch_p36/lib/python3.6/site-packages (from boto3>=1.14.12->sagemaker==1.72.0) (0.10.0)\n",
      "Requirement already satisfied: s3transfer<0.5.0,>=0.4.0 in /home/ec2-user/anaconda3/envs/pytorch_p36/lib/python3.6/site-packages (from boto3>=1.14.12->sagemaker==1.72.0) (0.4.1)\n",
      "Requirement already satisfied: python-dateutil<3.0.0,>=2.1 in /home/ec2-user/anaconda3/envs/pytorch_p36/lib/python3.6/site-packages (from botocore<1.21.0,>=1.20.55->boto3>=1.14.12->sagemaker==1.72.0) (2.8.1)\n",
      "Requirement already satisfied: urllib3<1.27,>=1.25.4 in /home/ec2-user/anaconda3/envs/pytorch_p36/lib/python3.6/site-packages (from botocore<1.21.0,>=1.20.55->boto3>=1.14.12->sagemaker==1.72.0) (1.26.4)\n",
      "Requirement already satisfied: zipp>=0.5 in /home/ec2-user/anaconda3/envs/pytorch_p36/lib/python3.6/site-packages (from importlib-metadata>=1.4.0->sagemaker==1.72.0) (3.4.0)\n",
      "Requirement already satisfied: typing-extensions>=3.6.4 in /home/ec2-user/anaconda3/envs/pytorch_p36/lib/python3.6/site-packages (from importlib-metadata>=1.4.0->sagemaker==1.72.0) (3.7.4.3)\n",
      "Requirement already satisfied: pyparsing>=2.0.2 in /home/ec2-user/anaconda3/envs/pytorch_p36/lib/python3.6/site-packages (from packaging>=20.0->sagemaker==1.72.0) (2.4.7)\n",
      "Requirement already satisfied: six>=1.9 in /home/ec2-user/anaconda3/envs/pytorch_p36/lib/python3.6/site-packages (from protobuf>=3.1->sagemaker==1.72.0) (1.15.0)\n",
      "Building wheels for collected packages: sagemaker\n",
      "  Building wheel for sagemaker (setup.py) ... \u001b[?25ldone\n",
      "\u001b[?25h  Created wheel for sagemaker: filename=sagemaker-1.72.0-py2.py3-none-any.whl size=386358 sha256=63ff97b327da946483e766bdfcbb3f1400fdeb76645ad5db82212f30077484d3\n",
      "  Stored in directory: /home/ec2-user/.cache/pip/wheels/c3/58/70/85faf4437568bfaa4c419937569ba1fe54d44c5db42406bbd7\n",
      "Successfully built sagemaker\n",
      "Installing collected packages: smdebug-rulesconfig, sagemaker\n",
      "  Attempting uninstall: smdebug-rulesconfig\n",
      "    Found existing installation: smdebug-rulesconfig 1.0.1\n",
      "    Uninstalling smdebug-rulesconfig-1.0.1:\n",
      "      Successfully uninstalled smdebug-rulesconfig-1.0.1\n",
      "  Attempting uninstall: sagemaker\n",
      "    Found existing installation: sagemaker 2.38.0\n",
      "    Uninstalling sagemaker-2.38.0:\n",
      "      Successfully uninstalled sagemaker-2.38.0\n",
      "Successfully installed sagemaker-1.72.0 smdebug-rulesconfig-0.1.4\n"
     ]
    }
   ],
   "source": [
    "!pip install sagemaker==1.72.0\n",
    "\n",
    "# Sagemaker\n",
    "import sagemaker"
   ]
  },
  {
   "cell_type": "code",
   "execution_count": 3,
   "metadata": {},
   "outputs": [],
   "source": [
    "X_train = pd.read_csv('../data/xtrain.csv', header = None)\n",
    "X_test =  pd.read_csv('../data/xtest.csv', header = None)\n",
    "\n",
    "y_train = pd.read_csv('../data/ytrain.csv', header = None)\n",
    "y_test =  pd.read_csv('../data/ytest.csv', header = None)"
   ]
  },
  {
   "cell_type": "code",
   "execution_count": 4,
   "metadata": {},
   "outputs": [
    {
     "data": {
      "text/html": [
       "<div>\n",
       "<style scoped>\n",
       "    .dataframe tbody tr th:only-of-type {\n",
       "        vertical-align: middle;\n",
       "    }\n",
       "\n",
       "    .dataframe tbody tr th {\n",
       "        vertical-align: top;\n",
       "    }\n",
       "\n",
       "    .dataframe thead th {\n",
       "        text-align: right;\n",
       "    }\n",
       "</style>\n",
       "<table border=\"1\" class=\"dataframe\">\n",
       "  <thead>\n",
       "    <tr style=\"text-align: right;\">\n",
       "      <th></th>\n",
       "      <th>0</th>\n",
       "      <th>1</th>\n",
       "      <th>2</th>\n",
       "      <th>3</th>\n",
       "      <th>4</th>\n",
       "      <th>5</th>\n",
       "      <th>6</th>\n",
       "      <th>7</th>\n",
       "      <th>8</th>\n",
       "      <th>9</th>\n",
       "      <th>...</th>\n",
       "      <th>491</th>\n",
       "      <th>492</th>\n",
       "      <th>493</th>\n",
       "      <th>494</th>\n",
       "      <th>495</th>\n",
       "      <th>496</th>\n",
       "      <th>497</th>\n",
       "      <th>498</th>\n",
       "      <th>499</th>\n",
       "      <th>500</th>\n",
       "    </tr>\n",
       "  </thead>\n",
       "  <tbody>\n",
       "    <tr>\n",
       "      <th>0</th>\n",
       "      <td>183</td>\n",
       "      <td>44</td>\n",
       "      <td>1171</td>\n",
       "      <td>23</td>\n",
       "      <td>763</td>\n",
       "      <td>44</td>\n",
       "      <td>1415</td>\n",
       "      <td>454</td>\n",
       "      <td>1</td>\n",
       "      <td>23</td>\n",
       "      <td>...</td>\n",
       "      <td>0</td>\n",
       "      <td>0</td>\n",
       "      <td>0</td>\n",
       "      <td>0</td>\n",
       "      <td>0</td>\n",
       "      <td>0</td>\n",
       "      <td>0</td>\n",
       "      <td>0</td>\n",
       "      <td>0</td>\n",
       "      <td>0</td>\n",
       "    </tr>\n",
       "    <tr>\n",
       "      <th>1</th>\n",
       "      <td>131</td>\n",
       "      <td>166</td>\n",
       "      <td>166</td>\n",
       "      <td>13</td>\n",
       "      <td>166</td>\n",
       "      <td>166</td>\n",
       "      <td>22</td>\n",
       "      <td>433</td>\n",
       "      <td>414</td>\n",
       "      <td>5</td>\n",
       "      <td>...</td>\n",
       "      <td>0</td>\n",
       "      <td>0</td>\n",
       "      <td>0</td>\n",
       "      <td>0</td>\n",
       "      <td>0</td>\n",
       "      <td>0</td>\n",
       "      <td>0</td>\n",
       "      <td>0</td>\n",
       "      <td>0</td>\n",
       "      <td>0</td>\n",
       "    </tr>\n",
       "    <tr>\n",
       "      <th>2</th>\n",
       "      <td>101</td>\n",
       "      <td>21</td>\n",
       "      <td>42</td>\n",
       "      <td>33</td>\n",
       "      <td>16</td>\n",
       "      <td>12</td>\n",
       "      <td>120</td>\n",
       "      <td>1422</td>\n",
       "      <td>1578</td>\n",
       "      <td>401</td>\n",
       "      <td>...</td>\n",
       "      <td>0</td>\n",
       "      <td>0</td>\n",
       "      <td>0</td>\n",
       "      <td>0</td>\n",
       "      <td>0</td>\n",
       "      <td>0</td>\n",
       "      <td>0</td>\n",
       "      <td>0</td>\n",
       "      <td>0</td>\n",
       "      <td>0</td>\n",
       "    </tr>\n",
       "    <tr>\n",
       "      <th>3</th>\n",
       "      <td>161</td>\n",
       "      <td>1569</td>\n",
       "      <td>600</td>\n",
       "      <td>1</td>\n",
       "      <td>663</td>\n",
       "      <td>1562</td>\n",
       "      <td>142</td>\n",
       "      <td>320</td>\n",
       "      <td>172</td>\n",
       "      <td>28</td>\n",
       "      <td>...</td>\n",
       "      <td>0</td>\n",
       "      <td>0</td>\n",
       "      <td>0</td>\n",
       "      <td>0</td>\n",
       "      <td>0</td>\n",
       "      <td>0</td>\n",
       "      <td>0</td>\n",
       "      <td>0</td>\n",
       "      <td>0</td>\n",
       "      <td>0</td>\n",
       "    </tr>\n",
       "    <tr>\n",
       "      <th>4</th>\n",
       "      <td>64</td>\n",
       "      <td>11</td>\n",
       "      <td>238</td>\n",
       "      <td>44</td>\n",
       "      <td>330</td>\n",
       "      <td>633</td>\n",
       "      <td>1680</td>\n",
       "      <td>978</td>\n",
       "      <td>61</td>\n",
       "      <td>1</td>\n",
       "      <td>...</td>\n",
       "      <td>0</td>\n",
       "      <td>0</td>\n",
       "      <td>0</td>\n",
       "      <td>0</td>\n",
       "      <td>0</td>\n",
       "      <td>0</td>\n",
       "      <td>0</td>\n",
       "      <td>0</td>\n",
       "      <td>0</td>\n",
       "      <td>0</td>\n",
       "    </tr>\n",
       "  </tbody>\n",
       "</table>\n",
       "<p>5 rows × 501 columns</p>\n",
       "</div>"
      ],
      "text/plain": [
       "   0     1     2    3    4     5     6     7     8    9    ...  491  492  493  \\\n",
       "0  183    44  1171   23  763    44  1415   454     1   23  ...    0    0    0   \n",
       "1  131   166   166   13  166   166    22   433   414    5  ...    0    0    0   \n",
       "2  101    21    42   33   16    12   120  1422  1578  401  ...    0    0    0   \n",
       "3  161  1569   600    1  663  1562   142   320   172   28  ...    0    0    0   \n",
       "4   64    11   238   44  330   633  1680   978    61    1  ...    0    0    0   \n",
       "\n",
       "   494  495  496  497  498  499  500  \n",
       "0    0    0    0    0    0    0    0  \n",
       "1    0    0    0    0    0    0    0  \n",
       "2    0    0    0    0    0    0    0  \n",
       "3    0    0    0    0    0    0    0  \n",
       "4    0    0    0    0    0    0    0  \n",
       "\n",
       "[5 rows x 501 columns]"
      ]
     },
     "execution_count": 4,
     "metadata": {},
     "output_type": "execute_result"
    }
   ],
   "source": [
    "X_test.head()"
   ]
  },
  {
   "cell_type": "markdown",
   "metadata": {},
   "source": [
    "### 2. Upload data to S3\n",
    "***"
   ]
  },
  {
   "cell_type": "code",
   "execution_count": 5,
   "metadata": {},
   "outputs": [],
   "source": [
    "assert len(y_train) == len(X_train)\n",
    "#len(X_train)"
   ]
  },
  {
   "cell_type": "code",
   "execution_count": 6,
   "metadata": {},
   "outputs": [],
   "source": [
    "data_dir = '../data/'"
   ]
  },
  {
   "cell_type": "markdown",
   "metadata": {},
   "source": [
    "#### 2.1 Prepare Data\n"
   ]
  },
  {
   "cell_type": "code",
   "execution_count": 7,
   "metadata": {},
   "outputs": [],
   "source": [
    "aws_data = pd.concat([y_train, X_train], axis=1)\n",
    "\n",
    "aws_data.to_csv(os.path.join(data_dir, 'train.csv'), header=False, index=False)"
   ]
  },
  {
   "cell_type": "code",
   "execution_count": 8,
   "metadata": {},
   "outputs": [
    {
     "data": {
      "text/html": [
       "<div>\n",
       "<style scoped>\n",
       "    .dataframe tbody tr th:only-of-type {\n",
       "        vertical-align: middle;\n",
       "    }\n",
       "\n",
       "    .dataframe tbody tr th {\n",
       "        vertical-align: top;\n",
       "    }\n",
       "\n",
       "    .dataframe thead th {\n",
       "        text-align: right;\n",
       "    }\n",
       "</style>\n",
       "<table border=\"1\" class=\"dataframe\">\n",
       "  <thead>\n",
       "    <tr style=\"text-align: right;\">\n",
       "      <th></th>\n",
       "      <th>0</th>\n",
       "      <th>0</th>\n",
       "      <th>1</th>\n",
       "      <th>2</th>\n",
       "      <th>3</th>\n",
       "      <th>4</th>\n",
       "      <th>5</th>\n",
       "      <th>6</th>\n",
       "      <th>7</th>\n",
       "      <th>8</th>\n",
       "      <th>...</th>\n",
       "      <th>491</th>\n",
       "      <th>492</th>\n",
       "      <th>493</th>\n",
       "      <th>494</th>\n",
       "      <th>495</th>\n",
       "      <th>496</th>\n",
       "      <th>497</th>\n",
       "      <th>498</th>\n",
       "      <th>499</th>\n",
       "      <th>500</th>\n",
       "    </tr>\n",
       "  </thead>\n",
       "  <tbody>\n",
       "    <tr>\n",
       "      <th>0</th>\n",
       "      <td>0</td>\n",
       "      <td>52</td>\n",
       "      <td>7</td>\n",
       "      <td>93</td>\n",
       "      <td>819</td>\n",
       "      <td>3326</td>\n",
       "      <td>269</td>\n",
       "      <td>201</td>\n",
       "      <td>1856</td>\n",
       "      <td>180</td>\n",
       "      <td>...</td>\n",
       "      <td>0</td>\n",
       "      <td>0</td>\n",
       "      <td>0</td>\n",
       "      <td>0</td>\n",
       "      <td>0</td>\n",
       "      <td>0</td>\n",
       "      <td>0</td>\n",
       "      <td>0</td>\n",
       "      <td>0</td>\n",
       "      <td>0</td>\n",
       "    </tr>\n",
       "    <tr>\n",
       "      <th>1</th>\n",
       "      <td>0</td>\n",
       "      <td>69</td>\n",
       "      <td>1368</td>\n",
       "      <td>122</td>\n",
       "      <td>1275</td>\n",
       "      <td>2</td>\n",
       "      <td>2577</td>\n",
       "      <td>758</td>\n",
       "      <td>186</td>\n",
       "      <td>391</td>\n",
       "      <td>...</td>\n",
       "      <td>0</td>\n",
       "      <td>0</td>\n",
       "      <td>0</td>\n",
       "      <td>0</td>\n",
       "      <td>0</td>\n",
       "      <td>0</td>\n",
       "      <td>0</td>\n",
       "      <td>0</td>\n",
       "      <td>0</td>\n",
       "      <td>0</td>\n",
       "    </tr>\n",
       "    <tr>\n",
       "      <th>2</th>\n",
       "      <td>0</td>\n",
       "      <td>60</td>\n",
       "      <td>994</td>\n",
       "      <td>894</td>\n",
       "      <td>637</td>\n",
       "      <td>849</td>\n",
       "      <td>2152</td>\n",
       "      <td>69</td>\n",
       "      <td>51</td>\n",
       "      <td>40</td>\n",
       "      <td>...</td>\n",
       "      <td>0</td>\n",
       "      <td>0</td>\n",
       "      <td>0</td>\n",
       "      <td>0</td>\n",
       "      <td>0</td>\n",
       "      <td>0</td>\n",
       "      <td>0</td>\n",
       "      <td>0</td>\n",
       "      <td>0</td>\n",
       "      <td>0</td>\n",
       "    </tr>\n",
       "    <tr>\n",
       "      <th>3</th>\n",
       "      <td>0</td>\n",
       "      <td>134</td>\n",
       "      <td>7</td>\n",
       "      <td>11</td>\n",
       "      <td>51</td>\n",
       "      <td>99</td>\n",
       "      <td>3330</td>\n",
       "      <td>48</td>\n",
       "      <td>26</td>\n",
       "      <td>4</td>\n",
       "      <td>...</td>\n",
       "      <td>0</td>\n",
       "      <td>0</td>\n",
       "      <td>0</td>\n",
       "      <td>0</td>\n",
       "      <td>0</td>\n",
       "      <td>0</td>\n",
       "      <td>0</td>\n",
       "      <td>0</td>\n",
       "      <td>0</td>\n",
       "      <td>0</td>\n",
       "    </tr>\n",
       "    <tr>\n",
       "      <th>4</th>\n",
       "      <td>1</td>\n",
       "      <td>88</td>\n",
       "      <td>1512</td>\n",
       "      <td>1049</td>\n",
       "      <td>316</td>\n",
       "      <td>27</td>\n",
       "      <td>4</td>\n",
       "      <td>178</td>\n",
       "      <td>308</td>\n",
       "      <td>688</td>\n",
       "      <td>...</td>\n",
       "      <td>0</td>\n",
       "      <td>0</td>\n",
       "      <td>0</td>\n",
       "      <td>0</td>\n",
       "      <td>0</td>\n",
       "      <td>0</td>\n",
       "      <td>0</td>\n",
       "      <td>0</td>\n",
       "      <td>0</td>\n",
       "      <td>0</td>\n",
       "    </tr>\n",
       "  </tbody>\n",
       "</table>\n",
       "<p>5 rows × 502 columns</p>\n",
       "</div>"
      ],
      "text/plain": [
       "   0    0     1     2     3     4     5    6     7    8    ...  491  492  493  \\\n",
       "0    0   52     7    93   819  3326   269  201  1856  180  ...    0    0    0   \n",
       "1    0   69  1368   122  1275     2  2577  758   186  391  ...    0    0    0   \n",
       "2    0   60   994   894   637   849  2152   69    51   40  ...    0    0    0   \n",
       "3    0  134     7    11    51    99  3330   48    26    4  ...    0    0    0   \n",
       "4    1   88  1512  1049   316    27     4  178   308  688  ...    0    0    0   \n",
       "\n",
       "   494  495  496  497  498  499  500  \n",
       "0    0    0    0    0    0    0    0  \n",
       "1    0    0    0    0    0    0    0  \n",
       "2    0    0    0    0    0    0    0  \n",
       "3    0    0    0    0    0    0    0  \n",
       "4    0    0    0    0    0    0    0  \n",
       "\n",
       "[5 rows x 502 columns]"
      ]
     },
     "execution_count": 8,
     "metadata": {},
     "output_type": "execute_result"
    }
   ],
   "source": [
    "aws_data.head()"
   ]
  },
  {
   "cell_type": "markdown",
   "metadata": {},
   "source": [
    "#### 2.2. Uploading training data"
   ]
  },
  {
   "cell_type": "code",
   "execution_count": 9,
   "metadata": {},
   "outputs": [],
   "source": [
    "sagemaker_session = sagemaker.Session()\n",
    "bucket = sagemaker_session.default_bucket()\n",
    "role = sagemaker.get_execution_role()"
   ]
  },
  {
   "cell_type": "code",
   "execution_count": 10,
   "metadata": {},
   "outputs": [
    {
     "name": "stdout",
     "output_type": "stream",
     "text": [
      "s3://sagemaker-us-east-2-890904620905/positiveness-lyrics\n"
     ]
    }
   ],
   "source": [
    "data_dir = \"../data\"\n",
    "prefix = 'positiveness-lyrics'\n",
    "\n",
    "# upload all data to S3\n",
    "data = sagemaker_session.upload_data(path=data_dir, bucket=bucket, key_prefix=prefix)\n",
    "print(data)"
   ]
  },
  {
   "cell_type": "code",
   "execution_count": 11,
   "metadata": {},
   "outputs": [
    {
     "name": "stdout",
     "output_type": "stream",
     "text": [
      "positiveness-lyrics/train.csv\n",
      "positiveness-lyrics/word_dict.pkl\n",
      "positiveness-lyrics/xtest.csv\n",
      "positiveness-lyrics/xtrain.csv\n",
      "positiveness-lyrics/ytest.csv\n",
      "positiveness-lyrics/ytrain.csv\n",
      "Test passed!\n"
     ]
    }
   ],
   "source": [
    "# confirm that data is in S3 bucket\n",
    "empty_check = []\n",
    "for obj in boto3.resource('s3').Bucket(bucket).objects.all():\n",
    "    empty_check.append(obj.key)\n",
    "    print(obj.key)\n",
    "\n",
    "assert len(empty_check) !=0, 'S3 bucket is empty.'\n",
    "print('Test passed!')"
   ]
  },
  {
   "cell_type": "markdown",
   "metadata": {},
   "source": [
    "### 3. Model Training\n",
    "***"
   ]
  },
  {
   "cell_type": "markdown",
   "metadata": {},
   "source": [
    "#### 3.1 Train Base Model - naiveBayes"
   ]
  },
  {
   "cell_type": "code",
   "execution_count": 52,
   "metadata": {},
   "outputs": [],
   "source": [
    "# your import and estimator code, here\n",
    "from sagemaker.sklearn.estimator import SKLearn\n",
    "\n",
    "output_path = 's3://{}/{}'.format(bucket, prefix)\n",
    "\n",
    "# instantiate our custom SKLearn estimator\n",
    "estimator = SKLearn(entry_point='train.py',\n",
    "                    source_dir='./utilis/bayes_model',\n",
    "                    role=role,\n",
    "                    train_instance_count=1,\n",
    "                    train_instance_type='ml.c4.xlarge',\n",
    "                    output_path=output_path,\n",
    "                    py_version='py3',\n",
    "                    framework_version='0.23-1',\n",
    "                    sagemaker_session=sagemaker_session\n",
    "                   \n",
    "                   )"
   ]
  },
  {
   "cell_type": "code",
   "execution_count": 53,
   "metadata": {
    "scrolled": true
   },
   "outputs": [
    {
     "name": "stderr",
     "output_type": "stream",
     "text": [
      "'s3_input' class will be renamed to 'TrainingInput' in SageMaker Python SDK v2.\n"
     ]
    },
    {
     "name": "stdout",
     "output_type": "stream",
     "text": [
      "2021-05-04 18:50:37 Starting - Starting the training job...\n",
      "2021-05-04 18:50:39 Starting - Launching requested ML instances......\n",
      "2021-05-04 18:51:42 Starting - Preparing the instances for training.........\n",
      "2021-05-04 18:53:33 Downloading - Downloading input data\n",
      "2021-05-04 18:53:33 Training - Downloading the training image...\n",
      "2021-05-04 18:54:02 Uploading - Uploading generated training model\n",
      "2021-05-04 18:54:02 Completed - Training job completed\n",
      "\u001b[34m2021-05-04 18:53:50,393 sagemaker-containers INFO     Imported framework sagemaker_sklearn_container.training\u001b[0m\n",
      "\u001b[34m2021-05-04 18:53:50,396 sagemaker-training-toolkit INFO     No GPUs detected (normal if no gpus installed)\u001b[0m\n",
      "\u001b[34m2021-05-04 18:53:50,405 sagemaker_sklearn_container.training INFO     Invoking user training script.\u001b[0m\n",
      "\u001b[34m2021-05-04 18:53:50,784 sagemaker-training-toolkit INFO     No GPUs detected (normal if no gpus installed)\u001b[0m\n",
      "\u001b[34m2021-05-04 18:53:52,210 sagemaker-training-toolkit INFO     No GPUs detected (normal if no gpus installed)\u001b[0m\n",
      "\u001b[34m2021-05-04 18:53:52,222 sagemaker-training-toolkit INFO     No GPUs detected (normal if no gpus installed)\u001b[0m\n",
      "\u001b[34m2021-05-04 18:53:52,232 sagemaker-training-toolkit INFO     Invoking user script\n",
      "\u001b[0m\n",
      "\u001b[34mTraining Env:\n",
      "\u001b[0m\n",
      "\u001b[34m{\n",
      "    \"additional_framework_parameters\": {},\n",
      "    \"channel_input_dirs\": {\n",
      "        \"train\": \"/opt/ml/input/data/train\"\n",
      "    },\n",
      "    \"current_host\": \"algo-1\",\n",
      "    \"framework_module\": \"sagemaker_sklearn_container.training:main\",\n",
      "    \"hosts\": [\n",
      "        \"algo-1\"\n",
      "    ],\n",
      "    \"hyperparameters\": {},\n",
      "    \"input_config_dir\": \"/opt/ml/input/config\",\n",
      "    \"input_data_config\": {\n",
      "        \"train\": {\n",
      "            \"TrainingInputMode\": \"File\",\n",
      "            \"S3DistributionType\": \"FullyReplicated\",\n",
      "            \"RecordWrapperType\": \"None\"\n",
      "        }\n",
      "    },\n",
      "    \"input_dir\": \"/opt/ml/input\",\n",
      "    \"is_master\": true,\n",
      "    \"job_name\": \"sagemaker-scikit-learn-2021-05-04-18-50-37-234\",\n",
      "    \"log_level\": 20,\n",
      "    \"master_hostname\": \"algo-1\",\n",
      "    \"model_dir\": \"/opt/ml/model\",\n",
      "    \"module_dir\": \"s3://sagemaker-us-east-2-890904620905/sagemaker-scikit-learn-2021-05-04-18-50-37-234/source/sourcedir.tar.gz\",\n",
      "    \"module_name\": \"train\",\n",
      "    \"network_interface_name\": \"eth0\",\n",
      "    \"num_cpus\": 4,\n",
      "    \"num_gpus\": 0,\n",
      "    \"output_data_dir\": \"/opt/ml/output/data\",\n",
      "    \"output_dir\": \"/opt/ml/output\",\n",
      "    \"output_intermediate_dir\": \"/opt/ml/output/intermediate\",\n",
      "    \"resource_config\": {\n",
      "        \"current_host\": \"algo-1\",\n",
      "        \"hosts\": [\n",
      "            \"algo-1\"\n",
      "        ],\n",
      "        \"network_interface_name\": \"eth0\"\n",
      "    },\n",
      "    \"user_entry_point\": \"train.py\"\u001b[0m\n",
      "\u001b[34m}\n",
      "\u001b[0m\n",
      "\u001b[34mEnvironment variables:\n",
      "\u001b[0m\n",
      "\u001b[34mSM_HOSTS=[\"algo-1\"]\u001b[0m\n",
      "\u001b[34mSM_NETWORK_INTERFACE_NAME=eth0\u001b[0m\n",
      "\u001b[34mSM_HPS={}\u001b[0m\n",
      "\u001b[34mSM_USER_ENTRY_POINT=train.py\u001b[0m\n",
      "\u001b[34mSM_FRAMEWORK_PARAMS={}\u001b[0m\n",
      "\u001b[34mSM_RESOURCE_CONFIG={\"current_host\":\"algo-1\",\"hosts\":[\"algo-1\"],\"network_interface_name\":\"eth0\"}\u001b[0m\n",
      "\u001b[34mSM_INPUT_DATA_CONFIG={\"train\":{\"RecordWrapperType\":\"None\",\"S3DistributionType\":\"FullyReplicated\",\"TrainingInputMode\":\"File\"}}\u001b[0m\n",
      "\u001b[34mSM_OUTPUT_DATA_DIR=/opt/ml/output/data\u001b[0m\n",
      "\u001b[34mSM_CHANNELS=[\"train\"]\u001b[0m\n",
      "\u001b[34mSM_CURRENT_HOST=algo-1\u001b[0m\n",
      "\u001b[34mSM_MODULE_NAME=train\u001b[0m\n",
      "\u001b[34mSM_LOG_LEVEL=20\u001b[0m\n",
      "\u001b[34mSM_FRAMEWORK_MODULE=sagemaker_sklearn_container.training:main\u001b[0m\n",
      "\u001b[34mSM_INPUT_DIR=/opt/ml/input\u001b[0m\n",
      "\u001b[34mSM_INPUT_CONFIG_DIR=/opt/ml/input/config\u001b[0m\n",
      "\u001b[34mSM_OUTPUT_DIR=/opt/ml/output\u001b[0m\n",
      "\u001b[34mSM_NUM_CPUS=4\u001b[0m\n",
      "\u001b[34mSM_NUM_GPUS=0\u001b[0m\n",
      "\u001b[34mSM_MODEL_DIR=/opt/ml/model\u001b[0m\n",
      "\u001b[34mSM_MODULE_DIR=s3://sagemaker-us-east-2-890904620905/sagemaker-scikit-learn-2021-05-04-18-50-37-234/source/sourcedir.tar.gz\u001b[0m\n",
      "\u001b[34mSM_TRAINING_ENV={\"additional_framework_parameters\":{},\"channel_input_dirs\":{\"train\":\"/opt/ml/input/data/train\"},\"current_host\":\"algo-1\",\"framework_module\":\"sagemaker_sklearn_container.training:main\",\"hosts\":[\"algo-1\"],\"hyperparameters\":{},\"input_config_dir\":\"/opt/ml/input/config\",\"input_data_config\":{\"train\":{\"RecordWrapperType\":\"None\",\"S3DistributionType\":\"FullyReplicated\",\"TrainingInputMode\":\"File\"}},\"input_dir\":\"/opt/ml/input\",\"is_master\":true,\"job_name\":\"sagemaker-scikit-learn-2021-05-04-18-50-37-234\",\"log_level\":20,\"master_hostname\":\"algo-1\",\"model_dir\":\"/opt/ml/model\",\"module_dir\":\"s3://sagemaker-us-east-2-890904620905/sagemaker-scikit-learn-2021-05-04-18-50-37-234/source/sourcedir.tar.gz\",\"module_name\":\"train\",\"network_interface_name\":\"eth0\",\"num_cpus\":4,\"num_gpus\":0,\"output_data_dir\":\"/opt/ml/output/data\",\"output_dir\":\"/opt/ml/output\",\"output_intermediate_dir\":\"/opt/ml/output/intermediate\",\"resource_config\":{\"current_host\":\"algo-1\",\"hosts\":[\"algo-1\"],\"network_interface_name\":\"eth0\"},\"user_entry_point\":\"train.py\"}\u001b[0m\n",
      "\u001b[34mSM_USER_ARGS=[]\u001b[0m\n",
      "\u001b[34mSM_OUTPUT_INTERMEDIATE_DIR=/opt/ml/output/intermediate\u001b[0m\n",
      "\u001b[34mSM_CHANNEL_TRAIN=/opt/ml/input/data/train\u001b[0m\n",
      "\u001b[34mPYTHONPATH=/opt/ml/code:/miniconda3/bin:/miniconda3/lib/python37.zip:/miniconda3/lib/python3.7:/miniconda3/lib/python3.7/lib-dynload:/miniconda3/lib/python3.7/site-packages\n",
      "\u001b[0m\n",
      "\u001b[34mInvoking script with the following command:\n",
      "\u001b[0m\n",
      "\u001b[34m/miniconda3/bin/python train.py\n",
      "\n",
      "\u001b[0m\n",
      "\u001b[34m2021-05-04 18:53:53,732 sagemaker-containers INFO     Reporting training SUCCESS\u001b[0m\n",
      "Training seconds: 45\n",
      "Billable seconds: 45\n",
      "CPU times: user 479 ms, sys: 15.4 ms, total: 494 ms\n",
      "Wall time: 3min 42s\n"
     ]
    }
   ],
   "source": [
    "%%time\n",
    "\n",
    "# Train your estimator on S3 training data\n",
    "estimator.fit({'train': data})"
   ]
  },
  {
   "cell_type": "markdown",
   "metadata": {},
   "source": [
    "#### 3.2. Deploy and evaluate base model"
   ]
  },
  {
   "cell_type": "code",
   "execution_count": 54,
   "metadata": {},
   "outputs": [
    {
     "name": "stderr",
     "output_type": "stream",
     "text": [
      "Parameter image will be renamed to image_uri in SageMaker Python SDK v2.\n"
     ]
    },
    {
     "name": "stdout",
     "output_type": "stream",
     "text": [
      "-------------------!"
     ]
    }
   ],
   "source": [
    "predictor = estimator.deploy(initial_instance_count=1, instance_type='ml.t2.medium')"
   ]
  },
  {
   "cell_type": "code",
   "execution_count": 50,
   "metadata": {},
   "outputs": [
    {
     "data": {
      "text/plain": [
       "pandas.core.frame.DataFrame"
      ]
     },
     "execution_count": 50,
     "metadata": {},
     "output_type": "execute_result"
    }
   ],
   "source": [
    "type(X_test)"
   ]
  },
  {
   "cell_type": "code",
   "execution_count": 70,
   "metadata": {},
   "outputs": [
    {
     "name": "stdout",
     "output_type": "stream",
     "text": [
      "The estimator had an auc of 55.32% and an accruacy of 51.00% in the test set\n"
     ]
    }
   ],
   "source": [
    "from sklearn.metrics import accuracy_score\n",
    "from sklearn.metrics import roc_auc_score\n",
    "\n",
    "# generate predictions\n",
    "\n",
    "y_preds  = predictor.predict(X_test)\n",
    "#print(y_preds)\n",
    "accuracy = accuracy_score(y_test, [round(num) for num in y_preds[:,1]])\n",
    "auc = roc_auc_score(y_test, y_preds[:,1])\n",
    "\n",
    "print(f\"The estimator had an auc of {auc:.2%} and an accruacy of {accuracy:.2%} in the test set\")"
   ]
  },
  {
   "cell_type": "code",
   "execution_count": 66,
   "metadata": {},
   "outputs": [],
   "source": [
    "pd.DataFrame(y_preds).to_csv(\"../predictions/bayes_predictions.csv\", index=False)"
   ]
  },
  {
   "cell_type": "code",
   "execution_count": 71,
   "metadata": {},
   "outputs": [
    {
     "ename": "AttributeError",
     "evalue": "'SKLearn' object has no attribute 'endpoint'",
     "output_type": "error",
     "traceback": [
      "\u001b[0;31m---------------------------------------------------------------------------\u001b[0m",
      "\u001b[0;31mAttributeError\u001b[0m                            Traceback (most recent call last)",
      "\u001b[0;32m<ipython-input-71-578548628680>\u001b[0m in \u001b[0;36m<module>\u001b[0;34m\u001b[0m\n\u001b[1;32m      1\u001b[0m \u001b[0;31m#clean endpoint\u001b[0m\u001b[0;34m\u001b[0m\u001b[0;34m\u001b[0m\u001b[0;34m\u001b[0m\u001b[0m\n\u001b[0;32m----> 2\u001b[0;31m \u001b[0mboto3\u001b[0m\u001b[0;34m.\u001b[0m\u001b[0mclient\u001b[0m\u001b[0;34m(\u001b[0m\u001b[0;34m'sagemaker'\u001b[0m\u001b[0;34m)\u001b[0m\u001b[0;34m.\u001b[0m\u001b[0mdelete_endpoint\u001b[0m\u001b[0;34m(\u001b[0m\u001b[0mEndpointName\u001b[0m\u001b[0;34m=\u001b[0m\u001b[0mestimator\u001b[0m\u001b[0;34m.\u001b[0m\u001b[0mendpoint\u001b[0m\u001b[0;34m)\u001b[0m\u001b[0;34m\u001b[0m\u001b[0;34m\u001b[0m\u001b[0m\n\u001b[0m",
      "\u001b[0;31mAttributeError\u001b[0m: 'SKLearn' object has no attribute 'endpoint'"
     ]
    }
   ],
   "source": [
    "#clean endpoint\n",
    "boto3.client('sagemaker').delete_endpoint(EndpointName=estimator.endpoint)"
   ]
  },
  {
   "cell_type": "markdown",
   "metadata": {},
   "source": [
    "#### 3.3 Main model - LSTM Neural Network"
   ]
  },
  {
   "cell_type": "markdown",
   "metadata": {},
   "source": [
    "##### 3.3.1 Testing the model before deployment"
   ]
  },
  {
   "cell_type": "code",
   "execution_count": 12,
   "metadata": {},
   "outputs": [],
   "source": [
    "import torch\n",
    "import torch.utils.data\n",
    "\n",
    "train_sample = pd.read_csv(os.path.join(data_dir, 'train.csv'), header=None, names=None)\n",
    "\n",
    "# Turn the input pandas dataframe into tensors\n",
    "train_sample_y = torch.from_numpy(train_sample[[0]].values).float().squeeze()\n",
    "train_sample_X = torch.from_numpy(train_sample.drop([0], axis=1).values).long()\n",
    "\n",
    "# Build the dataset\n",
    "train_sample_ds = torch.utils.data.TensorDataset(train_sample_X, train_sample_y)\n",
    "# Build the dataloader\n",
    "train_sample_dl = torch.utils.data.DataLoader(train_sample_ds, batch_size=50)"
   ]
  },
  {
   "cell_type": "code",
   "execution_count": 29,
   "metadata": {},
   "outputs": [
    {
     "data": {
      "text/html": [
       "<div>\n",
       "<style scoped>\n",
       "    .dataframe tbody tr th:only-of-type {\n",
       "        vertical-align: middle;\n",
       "    }\n",
       "\n",
       "    .dataframe tbody tr th {\n",
       "        vertical-align: top;\n",
       "    }\n",
       "\n",
       "    .dataframe thead th {\n",
       "        text-align: right;\n",
       "    }\n",
       "</style>\n",
       "<table border=\"1\" class=\"dataframe\">\n",
       "  <thead>\n",
       "    <tr style=\"text-align: right;\">\n",
       "      <th></th>\n",
       "      <th>0</th>\n",
       "      <th>1</th>\n",
       "      <th>2</th>\n",
       "      <th>3</th>\n",
       "      <th>4</th>\n",
       "      <th>5</th>\n",
       "      <th>6</th>\n",
       "      <th>7</th>\n",
       "      <th>8</th>\n",
       "      <th>9</th>\n",
       "      <th>...</th>\n",
       "      <th>492</th>\n",
       "      <th>493</th>\n",
       "      <th>494</th>\n",
       "      <th>495</th>\n",
       "      <th>496</th>\n",
       "      <th>497</th>\n",
       "      <th>498</th>\n",
       "      <th>499</th>\n",
       "      <th>500</th>\n",
       "      <th>501</th>\n",
       "    </tr>\n",
       "  </thead>\n",
       "  <tbody>\n",
       "    <tr>\n",
       "      <th>0</th>\n",
       "      <td>0</td>\n",
       "      <td>52</td>\n",
       "      <td>7</td>\n",
       "      <td>93</td>\n",
       "      <td>819</td>\n",
       "      <td>1</td>\n",
       "      <td>269</td>\n",
       "      <td>201</td>\n",
       "      <td>1</td>\n",
       "      <td>180</td>\n",
       "      <td>...</td>\n",
       "      <td>0</td>\n",
       "      <td>0</td>\n",
       "      <td>0</td>\n",
       "      <td>0</td>\n",
       "      <td>0</td>\n",
       "      <td>0</td>\n",
       "      <td>0</td>\n",
       "      <td>0</td>\n",
       "      <td>0</td>\n",
       "      <td>0</td>\n",
       "    </tr>\n",
       "    <tr>\n",
       "      <th>1</th>\n",
       "      <td>0</td>\n",
       "      <td>69</td>\n",
       "      <td>1</td>\n",
       "      <td>122</td>\n",
       "      <td>1</td>\n",
       "      <td>2</td>\n",
       "      <td>1</td>\n",
       "      <td>758</td>\n",
       "      <td>186</td>\n",
       "      <td>391</td>\n",
       "      <td>...</td>\n",
       "      <td>0</td>\n",
       "      <td>0</td>\n",
       "      <td>0</td>\n",
       "      <td>0</td>\n",
       "      <td>0</td>\n",
       "      <td>0</td>\n",
       "      <td>0</td>\n",
       "      <td>0</td>\n",
       "      <td>0</td>\n",
       "      <td>0</td>\n",
       "    </tr>\n",
       "    <tr>\n",
       "      <th>2</th>\n",
       "      <td>0</td>\n",
       "      <td>60</td>\n",
       "      <td>994</td>\n",
       "      <td>894</td>\n",
       "      <td>637</td>\n",
       "      <td>849</td>\n",
       "      <td>1</td>\n",
       "      <td>69</td>\n",
       "      <td>51</td>\n",
       "      <td>40</td>\n",
       "      <td>...</td>\n",
       "      <td>0</td>\n",
       "      <td>0</td>\n",
       "      <td>0</td>\n",
       "      <td>0</td>\n",
       "      <td>0</td>\n",
       "      <td>0</td>\n",
       "      <td>0</td>\n",
       "      <td>0</td>\n",
       "      <td>0</td>\n",
       "      <td>0</td>\n",
       "    </tr>\n",
       "    <tr>\n",
       "      <th>3</th>\n",
       "      <td>0</td>\n",
       "      <td>134</td>\n",
       "      <td>7</td>\n",
       "      <td>11</td>\n",
       "      <td>51</td>\n",
       "      <td>99</td>\n",
       "      <td>1</td>\n",
       "      <td>48</td>\n",
       "      <td>26</td>\n",
       "      <td>4</td>\n",
       "      <td>...</td>\n",
       "      <td>0</td>\n",
       "      <td>0</td>\n",
       "      <td>0</td>\n",
       "      <td>0</td>\n",
       "      <td>0</td>\n",
       "      <td>0</td>\n",
       "      <td>0</td>\n",
       "      <td>0</td>\n",
       "      <td>0</td>\n",
       "      <td>0</td>\n",
       "    </tr>\n",
       "    <tr>\n",
       "      <th>4</th>\n",
       "      <td>1</td>\n",
       "      <td>88</td>\n",
       "      <td>1</td>\n",
       "      <td>1</td>\n",
       "      <td>316</td>\n",
       "      <td>27</td>\n",
       "      <td>4</td>\n",
       "      <td>178</td>\n",
       "      <td>308</td>\n",
       "      <td>688</td>\n",
       "      <td>...</td>\n",
       "      <td>0</td>\n",
       "      <td>0</td>\n",
       "      <td>0</td>\n",
       "      <td>0</td>\n",
       "      <td>0</td>\n",
       "      <td>0</td>\n",
       "      <td>0</td>\n",
       "      <td>0</td>\n",
       "      <td>0</td>\n",
       "      <td>0</td>\n",
       "    </tr>\n",
       "    <tr>\n",
       "      <th>...</th>\n",
       "      <td>...</td>\n",
       "      <td>...</td>\n",
       "      <td>...</td>\n",
       "      <td>...</td>\n",
       "      <td>...</td>\n",
       "      <td>...</td>\n",
       "      <td>...</td>\n",
       "      <td>...</td>\n",
       "      <td>...</td>\n",
       "      <td>...</td>\n",
       "      <td>...</td>\n",
       "      <td>...</td>\n",
       "      <td>...</td>\n",
       "      <td>...</td>\n",
       "      <td>...</td>\n",
       "      <td>...</td>\n",
       "      <td>...</td>\n",
       "      <td>...</td>\n",
       "      <td>...</td>\n",
       "      <td>...</td>\n",
       "      <td>...</td>\n",
       "    </tr>\n",
       "    <tr>\n",
       "      <th>795</th>\n",
       "      <td>0</td>\n",
       "      <td>144</td>\n",
       "      <td>1</td>\n",
       "      <td>1</td>\n",
       "      <td>794</td>\n",
       "      <td>885</td>\n",
       "      <td>813</td>\n",
       "      <td>1</td>\n",
       "      <td>1</td>\n",
       "      <td>57</td>\n",
       "      <td>...</td>\n",
       "      <td>0</td>\n",
       "      <td>0</td>\n",
       "      <td>0</td>\n",
       "      <td>0</td>\n",
       "      <td>0</td>\n",
       "      <td>0</td>\n",
       "      <td>0</td>\n",
       "      <td>0</td>\n",
       "      <td>0</td>\n",
       "      <td>0</td>\n",
       "    </tr>\n",
       "    <tr>\n",
       "      <th>796</th>\n",
       "      <td>1</td>\n",
       "      <td>254</td>\n",
       "      <td>10</td>\n",
       "      <td>53</td>\n",
       "      <td>53</td>\n",
       "      <td>53</td>\n",
       "      <td>343</td>\n",
       "      <td>12</td>\n",
       "      <td>53</td>\n",
       "      <td>53</td>\n",
       "      <td>...</td>\n",
       "      <td>0</td>\n",
       "      <td>0</td>\n",
       "      <td>0</td>\n",
       "      <td>0</td>\n",
       "      <td>0</td>\n",
       "      <td>0</td>\n",
       "      <td>0</td>\n",
       "      <td>0</td>\n",
       "      <td>0</td>\n",
       "      <td>0</td>\n",
       "    </tr>\n",
       "    <tr>\n",
       "      <th>797</th>\n",
       "      <td>1</td>\n",
       "      <td>56</td>\n",
       "      <td>676</td>\n",
       "      <td>326</td>\n",
       "      <td>78</td>\n",
       "      <td>1</td>\n",
       "      <td>35</td>\n",
       "      <td>207</td>\n",
       "      <td>61</td>\n",
       "      <td>814</td>\n",
       "      <td>...</td>\n",
       "      <td>0</td>\n",
       "      <td>0</td>\n",
       "      <td>0</td>\n",
       "      <td>0</td>\n",
       "      <td>0</td>\n",
       "      <td>0</td>\n",
       "      <td>0</td>\n",
       "      <td>0</td>\n",
       "      <td>0</td>\n",
       "      <td>0</td>\n",
       "    </tr>\n",
       "    <tr>\n",
       "      <th>798</th>\n",
       "      <td>1</td>\n",
       "      <td>271</td>\n",
       "      <td>1</td>\n",
       "      <td>1</td>\n",
       "      <td>1</td>\n",
       "      <td>181</td>\n",
       "      <td>4</td>\n",
       "      <td>217</td>\n",
       "      <td>341</td>\n",
       "      <td>1</td>\n",
       "      <td>...</td>\n",
       "      <td>0</td>\n",
       "      <td>0</td>\n",
       "      <td>0</td>\n",
       "      <td>0</td>\n",
       "      <td>0</td>\n",
       "      <td>0</td>\n",
       "      <td>0</td>\n",
       "      <td>0</td>\n",
       "      <td>0</td>\n",
       "      <td>0</td>\n",
       "    </tr>\n",
       "    <tr>\n",
       "      <th>799</th>\n",
       "      <td>0</td>\n",
       "      <td>93</td>\n",
       "      <td>138</td>\n",
       "      <td>76</td>\n",
       "      <td>77</td>\n",
       "      <td>775</td>\n",
       "      <td>83</td>\n",
       "      <td>11</td>\n",
       "      <td>30</td>\n",
       "      <td>73</td>\n",
       "      <td>...</td>\n",
       "      <td>0</td>\n",
       "      <td>0</td>\n",
       "      <td>0</td>\n",
       "      <td>0</td>\n",
       "      <td>0</td>\n",
       "      <td>0</td>\n",
       "      <td>0</td>\n",
       "      <td>0</td>\n",
       "      <td>0</td>\n",
       "      <td>0</td>\n",
       "    </tr>\n",
       "  </tbody>\n",
       "</table>\n",
       "<p>800 rows × 502 columns</p>\n",
       "</div>"
      ],
      "text/plain": [
       "     0    1    2    3    4    5    6    7    8    9    ...  492  493  494  \\\n",
       "0      0   52    7   93  819    1  269  201    1  180  ...    0    0    0   \n",
       "1      0   69    1  122    1    2    1  758  186  391  ...    0    0    0   \n",
       "2      0   60  994  894  637  849    1   69   51   40  ...    0    0    0   \n",
       "3      0  134    7   11   51   99    1   48   26    4  ...    0    0    0   \n",
       "4      1   88    1    1  316   27    4  178  308  688  ...    0    0    0   \n",
       "..   ...  ...  ...  ...  ...  ...  ...  ...  ...  ...  ...  ...  ...  ...   \n",
       "795    0  144    1    1  794  885  813    1    1   57  ...    0    0    0   \n",
       "796    1  254   10   53   53   53  343   12   53   53  ...    0    0    0   \n",
       "797    1   56  676  326   78    1   35  207   61  814  ...    0    0    0   \n",
       "798    1  271    1    1    1  181    4  217  341    1  ...    0    0    0   \n",
       "799    0   93  138   76   77  775   83   11   30   73  ...    0    0    0   \n",
       "\n",
       "     495  496  497  498  499  500  501  \n",
       "0      0    0    0    0    0    0    0  \n",
       "1      0    0    0    0    0    0    0  \n",
       "2      0    0    0    0    0    0    0  \n",
       "3      0    0    0    0    0    0    0  \n",
       "4      0    0    0    0    0    0    0  \n",
       "..   ...  ...  ...  ...  ...  ...  ...  \n",
       "795    0    0    0    0    0    0    0  \n",
       "796    0    0    0    0    0    0    0  \n",
       "797    0    0    0    0    0    0    0  \n",
       "798    0    0    0    0    0    0    0  \n",
       "799    0    0    0    0    0    0    0  \n",
       "\n",
       "[800 rows x 502 columns]"
      ]
     },
     "execution_count": 29,
     "metadata": {},
     "output_type": "execute_result"
    }
   ],
   "source": [
    "train_sample"
   ]
  },
  {
   "cell_type": "code",
   "execution_count": 30,
   "metadata": {},
   "outputs": [],
   "source": [
    "def train(model, train_loader, epochs, optimizer, loss_fn, device):\n",
    "    for epoch in range(1, epochs + 1):\n",
    "        model.train()\n",
    "        total_loss = 0\n",
    "        for batch in train_loader:         \n",
    "            batch_X, batch_y = batch\n",
    "            \n",
    "            batch_X = batch_X.to(device)\n",
    "            batch_y = batch_y.to(device)\n",
    "            \n",
    "            # clear gradiants\n",
    "            optimizer.zero_grad()\n",
    "            \n",
    "            # compute the model output\n",
    "            out = model(batch_X)\n",
    "            \n",
    "            # calculate loss\n",
    "            loss = loss_fn(out, batch_y)\n",
    "            \n",
    "            # backward propagation\n",
    "            loss.backward()\n",
    "            \n",
    "            # update model weights with optimizer\n",
    "            optimizer.step()\n",
    "            \n",
    "            total_loss += loss.data.item()\n",
    "        print(f\"Epoch: {epoch}, BCELoss: {total_loss / len(train_loader)}\")"
   ]
  },
  {
   "cell_type": "code",
   "execution_count": 31,
   "metadata": {},
   "outputs": [
    {
     "name": "stdout",
     "output_type": "stream",
     "text": [
      "Epoch: 1, BCELoss: 0.6898287311196327\n",
      "Epoch: 2, BCELoss: 0.6772803962230682\n",
      "Epoch: 3, BCELoss: 0.6649945974349976\n",
      "Epoch: 4, BCELoss: 0.6455747671425343\n",
      "Epoch: 5, BCELoss: 0.6209660843014717\n"
     ]
    }
   ],
   "source": [
    "import torch.optim as optim\n",
    "from utilis.lstm_model.model import LSTMClassifier\n",
    "\n",
    "device = torch.device(\"cuda\" if torch.cuda.is_available() else \"cpu\")\n",
    "model = LSTMClassifier(32, 100, 5000).to(device)\n",
    "optimizer = optim.Adam(model.parameters())\n",
    "loss_fn = torch.nn.BCELoss()\n",
    "\n",
    "train(model, train_sample_dl, 5, optimizer, loss_fn, device)"
   ]
  },
  {
   "cell_type": "markdown",
   "metadata": {},
   "source": [
    "##### 3.3.2. Train and deploy model"
   ]
  },
  {
   "cell_type": "code",
   "execution_count": 13,
   "metadata": {},
   "outputs": [],
   "source": [
    "from sagemaker.pytorch import PyTorch\n",
    "\n",
    "estimator = PyTorch(entry_point=\"train.py\",\n",
    "                    source_dir=\"./utilis/lstm_model\",\n",
    "                    role=role,\n",
    "                    framework_version='0.4.0',\n",
    "                    train_instance_count=1,\n",
    "                    train_instance_type='ml.c4.xlarge',\n",
    "                    hyperparameters={\n",
    "                        'epochs': 20,\n",
    "                        'hidden_dim': 200,\n",
    "                        'vocab_size': 4000,\n",
    "                        'seed': 123\n",
    "                    })"
   ]
  },
  {
   "cell_type": "code",
   "execution_count": 14,
   "metadata": {
    "scrolled": true
   },
   "outputs": [
    {
     "name": "stderr",
     "output_type": "stream",
     "text": [
      "'create_image_uri' will be deprecated in favor of 'ImageURIProvider' class in SageMaker Python SDK v2.\n",
      "'s3_input' class will be renamed to 'TrainingInput' in SageMaker Python SDK v2.\n",
      "'create_image_uri' will be deprecated in favor of 'ImageURIProvider' class in SageMaker Python SDK v2.\n"
     ]
    },
    {
     "name": "stdout",
     "output_type": "stream",
     "text": [
      "2021-05-05 19:03:44 Starting - Starting the training job...\n",
      "2021-05-05 19:03:46 Starting - Launching requested ML instances......\n",
      "2021-05-05 19:05:10 Starting - Preparing the instances for training......\n",
      "2021-05-05 19:06:08 Downloading - Downloading input data...\n",
      "2021-05-05 19:06:33 Training - Downloading the training image.\u001b[34mbash: cannot set terminal process group (-1): Inappropriate ioctl for device\u001b[0m\n",
      "\u001b[34mbash: no job control in this shell\u001b[0m\n",
      "\u001b[34m2021-05-05 19:06:49,034 sagemaker-containers INFO     Imported framework sagemaker_pytorch_container.training\u001b[0m\n",
      "\u001b[34m2021-05-05 19:06:49,037 sagemaker-containers INFO     No GPUs detected (normal if no gpus installed)\u001b[0m\n",
      "\u001b[34m2021-05-05 19:06:49,048 sagemaker_pytorch_container.training INFO     Block until all host DNS lookups succeed.\u001b[0m\n",
      "\u001b[34m2021-05-05 19:06:52,079 sagemaker_pytorch_container.training INFO     Invoking user training script.\u001b[0m\n",
      "\u001b[34m2021-05-05 19:06:52,447 sagemaker-containers INFO     Module train does not provide a setup.py. \u001b[0m\n",
      "\u001b[34mGenerating setup.py\u001b[0m\n",
      "\u001b[34m2021-05-05 19:06:52,447 sagemaker-containers INFO     Generating setup.cfg\u001b[0m\n",
      "\u001b[34m2021-05-05 19:06:52,447 sagemaker-containers INFO     Generating MANIFEST.in\u001b[0m\n",
      "\u001b[34m2021-05-05 19:06:52,447 sagemaker-containers INFO     Installing module with the following command:\u001b[0m\n",
      "\u001b[34m/usr/bin/python -m pip install -U . -r requirements.txt\u001b[0m\n",
      "\u001b[34mProcessing /opt/ml/code\u001b[0m\n",
      "\u001b[34mCollecting pandas (from -r requirements.txt (line 1))\n",
      "  Downloading https://files.pythonhosted.org/packages/74/24/0cdbf8907e1e3bc5a8da03345c23cbed7044330bb8f73bb12e711a640a00/pandas-0.24.2-cp35-cp35m-manylinux1_x86_64.whl (10.0MB)\u001b[0m\n",
      "\u001b[34mCollecting numpy (from -r requirements.txt (line 2))\u001b[0m\n",
      "\u001b[34m  Downloading https://files.pythonhosted.org/packages/b5/36/88723426b4ff576809fec7d73594fe17a35c27f8d01f93637637a29ae25b/numpy-1.18.5-cp35-cp35m-manylinux1_x86_64.whl (19.9MB)\u001b[0m\n",
      "\u001b[34mCollecting nltk (from -r requirements.txt (line 3))\n",
      "  Downloading https://files.pythonhosted.org/packages/5e/37/9532ddd4b1bbb619333d5708aaad9bf1742f051a664c3c6fa6632a105fd8/nltk-3.6.2-py3-none-any.whl (1.5MB)\u001b[0m\n",
      "\u001b[34mCollecting beautifulsoup4 (from -r requirements.txt (line 4))\n",
      "  Downloading https://files.pythonhosted.org/packages/d1/41/e6495bd7d3781cee623ce23ea6ac73282a373088fcd0ddc809a047b18eae/beautifulsoup4-4.9.3-py3-none-any.whl (115kB)\u001b[0m\n",
      "\u001b[34mCollecting html5lib (from -r requirements.txt (line 5))\n",
      "  Downloading https://files.pythonhosted.org/packages/6c/dd/a834df6482147d48e225a49515aabc28974ad5a4ca3215c18a882565b028/html5lib-1.1-py2.py3-none-any.whl (112kB)\u001b[0m\n",
      "\u001b[34mCollecting pytz>=2011k (from pandas->-r requirements.txt (line 1))\n",
      "  Downloading https://files.pythonhosted.org/packages/70/94/784178ca5dd892a98f113cdd923372024dc04b8d40abe77ca76b5fb90ca6/pytz-2021.1-py2.py3-none-any.whl (510kB)\u001b[0m\n",
      "\u001b[34mRequirement already satisfied, skipping upgrade: python-dateutil>=2.5.0 in /usr/local/lib/python3.5/dist-packages (from pandas->-r requirements.txt (line 1)) (2.7.5)\u001b[0m\n",
      "\u001b[34mCollecting joblib (from nltk->-r requirements.txt (line 3))\n",
      "  Downloading https://files.pythonhosted.org/packages/28/5c/cf6a2b65a321c4a209efcdf64c2689efae2cb62661f8f6f4bb28547cf1bf/joblib-0.14.1-py2.py3-none-any.whl (294kB)\u001b[0m\n",
      "\u001b[34mCollecting regex (from nltk->-r requirements.txt (line 3))\u001b[0m\n",
      "\u001b[34m  Downloading https://files.pythonhosted.org/packages/38/3f/4c42a98c9ad7d08c16e7d23b2194a0e4f3b2914662da8bc88986e4e6de1f/regex-2021.4.4.tar.gz (693kB)\u001b[0m\n",
      "\u001b[34mCollecting tqdm (from nltk->-r requirements.txt (line 3))\n",
      "  Downloading https://files.pythonhosted.org/packages/72/8a/34efae5cf9924328a8f34eeb2fdaae14c011462d9f0e3fcded48e1266d1c/tqdm-4.60.0-py2.py3-none-any.whl (75kB)\u001b[0m\n",
      "\u001b[34mRequirement already satisfied, skipping upgrade: click in /usr/local/lib/python3.5/dist-packages (from nltk->-r requirements.txt (line 3)) (7.0)\u001b[0m\n",
      "\u001b[34mCollecting soupsieve>1.2; python_version >= \"3.0\" (from beautifulsoup4->-r requirements.txt (line 4))\n",
      "  Downloading https://files.pythonhosted.org/packages/02/fb/1c65691a9aeb7bd6ac2aa505b84cb8b49ac29c976411c6ab3659425e045f/soupsieve-2.1-py3-none-any.whl\u001b[0m\n",
      "\u001b[34mRequirement already satisfied, skipping upgrade: six>=1.9 in /usr/local/lib/python3.5/dist-packages (from html5lib->-r requirements.txt (line 5)) (1.11.0)\u001b[0m\n",
      "\u001b[34mCollecting webencodings (from html5lib->-r requirements.txt (line 5))\n",
      "  Downloading https://files.pythonhosted.org/packages/f4/24/2a3e3df732393fed8b3ebf2ec078f05546de641fe1b667ee316ec1dcf3b7/webencodings-0.5.1-py2.py3-none-any.whl\u001b[0m\n",
      "\u001b[34mBuilding wheels for collected packages: train, regex\n",
      "  Running setup.py bdist_wheel for train: started\u001b[0m\n",
      "\u001b[34m  Running setup.py bdist_wheel for train: finished with status 'done'\n",
      "  Stored in directory: /tmp/pip-ephem-wheel-cache-40f548vi/wheels/35/24/16/37574d11bf9bde50616c67372a334f94fa8356bc7164af8ca3\n",
      "  Running setup.py bdist_wheel for regex: started\u001b[0m\n",
      "\n",
      "2021-05-05 19:06:48 Training - Training image download completed. Training in progress.\u001b[34m  Running setup.py bdist_wheel for regex: finished with status 'done'\n",
      "  Stored in directory: /root/.cache/pip/wheels/c9/05/a8/b85fa0bd7850b99f9b4f106972975f2e3c46412e12f9949b58\u001b[0m\n",
      "\u001b[34mSuccessfully built train regex\u001b[0m\n",
      "\u001b[34mInstalling collected packages: pytz, numpy, pandas, joblib, regex, tqdm, nltk, soupsieve, beautifulsoup4, webencodings, html5lib, train\n",
      "  Found existing installation: numpy 1.15.4\n",
      "    Uninstalling numpy-1.15.4:\u001b[0m\n",
      "\u001b[34m      Successfully uninstalled numpy-1.15.4\u001b[0m\n",
      "\u001b[34mSuccessfully installed beautifulsoup4-4.9.3 html5lib-1.1 joblib-0.14.1 nltk-3.6.2 numpy-1.18.5 pandas-0.24.2 pytz-2021.1 regex-2021.4.4 soupsieve-2.1 tqdm-4.60.0 train-1.0.0 webencodings-0.5.1\u001b[0m\n",
      "\u001b[34mYou are using pip version 18.1, however version 20.3.4 is available.\u001b[0m\n",
      "\u001b[34mYou should consider upgrading via the 'pip install --upgrade pip' command.\u001b[0m\n",
      "\u001b[34m2021-05-05 19:07:12,836 sagemaker-containers INFO     No GPUs detected (normal if no gpus installed)\u001b[0m\n",
      "\u001b[34m2021-05-05 19:07:12,848 sagemaker-containers INFO     Invoking user script\n",
      "\u001b[0m\n",
      "\u001b[34mTraining Env:\n",
      "\u001b[0m\n",
      "\u001b[34m{\n",
      "    \"input_dir\": \"/opt/ml/input\",\n",
      "    \"log_level\": 20,\n",
      "    \"num_cpus\": 4,\n",
      "    \"current_host\": \"algo-1\",\n",
      "    \"framework_module\": \"sagemaker_pytorch_container.training:main\",\n",
      "    \"output_data_dir\": \"/opt/ml/output/data\",\n",
      "    \"input_data_config\": {\n",
      "        \"training\": {\n",
      "            \"TrainingInputMode\": \"File\",\n",
      "            \"S3DistributionType\": \"FullyReplicated\",\n",
      "            \"RecordWrapperType\": \"None\"\n",
      "        }\n",
      "    },\n",
      "    \"hosts\": [\n",
      "        \"algo-1\"\n",
      "    ],\n",
      "    \"module_name\": \"train\",\n",
      "    \"input_config_dir\": \"/opt/ml/input/config\",\n",
      "    \"channel_input_dirs\": {\n",
      "        \"training\": \"/opt/ml/input/data/training\"\n",
      "    },\n",
      "    \"module_dir\": \"s3://sagemaker-us-east-2-890904620905/sagemaker-pytorch-2021-05-05-19-03-44-413/source/sourcedir.tar.gz\",\n",
      "    \"resource_config\": {\n",
      "        \"hosts\": [\n",
      "            \"algo-1\"\n",
      "        ],\n",
      "        \"current_host\": \"algo-1\",\n",
      "        \"network_interface_name\": \"eth0\"\n",
      "    },\n",
      "    \"model_dir\": \"/opt/ml/model\",\n",
      "    \"hyperparameters\": {\n",
      "        \"vocab_size\": 4000,\n",
      "        \"epochs\": 20,\n",
      "        \"seed\": 123,\n",
      "        \"hidden_dim\": 200\n",
      "    },\n",
      "    \"output_intermediate_dir\": \"/opt/ml/output/intermediate\",\n",
      "    \"job_name\": \"sagemaker-pytorch-2021-05-05-19-03-44-413\",\n",
      "    \"additional_framework_parameters\": {},\n",
      "    \"user_entry_point\": \"train.py\",\n",
      "    \"network_interface_name\": \"eth0\",\n",
      "    \"num_gpus\": 0,\n",
      "    \"output_dir\": \"/opt/ml/output\"\u001b[0m\n",
      "\u001b[34m}\n",
      "\u001b[0m\n",
      "\u001b[34mEnvironment variables:\n",
      "\u001b[0m\n",
      "\u001b[34mSM_INPUT_DIR=/opt/ml/input\u001b[0m\n",
      "\u001b[34mSM_HP_VOCAB_SIZE=4000\u001b[0m\n",
      "\u001b[34mSM_RESOURCE_CONFIG={\"current_host\":\"algo-1\",\"hosts\":[\"algo-1\"],\"network_interface_name\":\"eth0\"}\u001b[0m\n",
      "\u001b[34mSM_MODEL_DIR=/opt/ml/model\u001b[0m\n",
      "\u001b[34mSM_CHANNELS=[\"training\"]\u001b[0m\n",
      "\u001b[34mSM_INPUT_DATA_CONFIG={\"training\":{\"RecordWrapperType\":\"None\",\"S3DistributionType\":\"FullyReplicated\",\"TrainingInputMode\":\"File\"}}\u001b[0m\n",
      "\u001b[34mSM_FRAMEWORK_MODULE=sagemaker_pytorch_container.training:main\u001b[0m\n",
      "\u001b[34mSM_HOSTS=[\"algo-1\"]\u001b[0m\n",
      "\u001b[34mSM_USER_ARGS=[\"--epochs\",\"20\",\"--hidden_dim\",\"200\",\"--seed\",\"123\",\"--vocab_size\",\"4000\"]\u001b[0m\n",
      "\u001b[34mSM_LOG_LEVEL=20\u001b[0m\n",
      "\u001b[34mSM_MODULE_NAME=train\u001b[0m\n",
      "\u001b[34mSM_MODULE_DIR=s3://sagemaker-us-east-2-890904620905/sagemaker-pytorch-2021-05-05-19-03-44-413/source/sourcedir.tar.gz\u001b[0m\n",
      "\u001b[34mSM_NUM_GPUS=0\u001b[0m\n",
      "\u001b[34mSM_NUM_CPUS=4\u001b[0m\n",
      "\u001b[34mSM_OUTPUT_DATA_DIR=/opt/ml/output/data\u001b[0m\n",
      "\u001b[34mSM_OUTPUT_DIR=/opt/ml/output\u001b[0m\n",
      "\u001b[34mSM_FRAMEWORK_PARAMS={}\u001b[0m\n",
      "\u001b[34mSM_OUTPUT_INTERMEDIATE_DIR=/opt/ml/output/intermediate\u001b[0m\n",
      "\u001b[34mSM_HP_EPOCHS=20\u001b[0m\n",
      "\u001b[34mSM_HP_SEED=123\u001b[0m\n",
      "\u001b[34mSM_INPUT_CONFIG_DIR=/opt/ml/input/config\u001b[0m\n",
      "\u001b[34mSM_HP_HIDDEN_DIM=200\u001b[0m\n",
      "\u001b[34mSM_CHANNEL_TRAINING=/opt/ml/input/data/training\u001b[0m\n",
      "\u001b[34mSM_NETWORK_INTERFACE_NAME=eth0\u001b[0m\n",
      "\u001b[34mSM_CURRENT_HOST=algo-1\u001b[0m\n",
      "\u001b[34mSM_HPS={\"epochs\":20,\"hidden_dim\":200,\"seed\":123,\"vocab_size\":4000}\u001b[0m\n",
      "\u001b[34mPYTHONPATH=/usr/local/bin:/usr/lib/python35.zip:/usr/lib/python3.5:/usr/lib/python3.5/plat-x86_64-linux-gnu:/usr/lib/python3.5/lib-dynload:/usr/local/lib/python3.5/dist-packages:/usr/lib/python3/dist-packages\u001b[0m\n",
      "\u001b[34mSM_TRAINING_ENV={\"additional_framework_parameters\":{},\"channel_input_dirs\":{\"training\":\"/opt/ml/input/data/training\"},\"current_host\":\"algo-1\",\"framework_module\":\"sagemaker_pytorch_container.training:main\",\"hosts\":[\"algo-1\"],\"hyperparameters\":{\"epochs\":20,\"hidden_dim\":200,\"seed\":123,\"vocab_size\":4000},\"input_config_dir\":\"/opt/ml/input/config\",\"input_data_config\":{\"training\":{\"RecordWrapperType\":\"None\",\"S3DistributionType\":\"FullyReplicated\",\"TrainingInputMode\":\"File\"}},\"input_dir\":\"/opt/ml/input\",\"job_name\":\"sagemaker-pytorch-2021-05-05-19-03-44-413\",\"log_level\":20,\"model_dir\":\"/opt/ml/model\",\"module_dir\":\"s3://sagemaker-us-east-2-890904620905/sagemaker-pytorch-2021-05-05-19-03-44-413/source/sourcedir.tar.gz\",\"module_name\":\"train\",\"network_interface_name\":\"eth0\",\"num_cpus\":4,\"num_gpus\":0,\"output_data_dir\":\"/opt/ml/output/data\",\"output_dir\":\"/opt/ml/output\",\"output_intermediate_dir\":\"/opt/ml/output/intermediate\",\"resource_config\":{\"current_host\":\"algo-1\",\"hosts\":[\"algo-1\"],\"network_interface_name\":\"eth0\"},\"user_entry_point\":\"train.py\"}\u001b[0m\n",
      "\u001b[34mSM_USER_ENTRY_POINT=train.py\n",
      "\u001b[0m\n",
      "\u001b[34mInvoking script with the following command:\n",
      "\u001b[0m\n",
      "\u001b[34m/usr/bin/python -m train --epochs 20 --hidden_dim 200 --seed 123 --vocab_size 4000\n",
      "\n",
      "\u001b[0m\n",
      "\u001b[34mUsing device cpu.\u001b[0m\n",
      "\u001b[34mGet train data loader.\u001b[0m\n",
      "\u001b[34mModel loaded with embedding_dim 32, hidden_dim 200, vocab_size 4000.\u001b[0m\n",
      "\u001b[34mEpoch: 1, BCELoss: 0.6930075585842133\u001b[0m\n",
      "\u001b[34mEpoch: 2, BCELoss: 0.6889418959617615\u001b[0m\n",
      "\u001b[34mEpoch: 3, BCELoss: 0.6851584613323212\u001b[0m\n",
      "\u001b[34mEpoch: 4, BCELoss: 0.6810168623924255\u001b[0m\n",
      "\u001b[34mEpoch: 5, BCELoss: 0.6761521100997925\u001b[0m\n",
      "\u001b[34mEpoch: 6, BCELoss: 0.6701230406761169\u001b[0m\n",
      "\u001b[34mEpoch: 7, BCELoss: 0.6623957455158234\u001b[0m\n",
      "\u001b[34mEpoch: 8, BCELoss: 0.6529921591281891\u001b[0m\n",
      "\u001b[34mEpoch: 9, BCELoss: 0.6457744836807251\u001b[0m\n",
      "\u001b[34mEpoch: 10, BCELoss: 0.6390473246574402\u001b[0m\n",
      "\u001b[34mEpoch: 11, BCELoss: 0.6295955181121826\u001b[0m\n",
      "\u001b[34mEpoch: 12, BCELoss: 0.6205588579177856\u001b[0m\n",
      "\u001b[34mEpoch: 13, BCELoss: 0.6087367832660675\u001b[0m\n",
      "\u001b[34mEpoch: 14, BCELoss: 0.6004610061645508\u001b[0m\n",
      "\u001b[34mEpoch: 15, BCELoss: 0.5899533927440643\u001b[0m\n",
      "\u001b[34mEpoch: 16, BCELoss: 0.5766105055809021\u001b[0m\n",
      "\u001b[34mEpoch: 17, BCELoss: 0.5629158020019531\u001b[0m\n",
      "\u001b[34mEpoch: 18, BCELoss: 0.5483695566654205\u001b[0m\n",
      "\u001b[34mEpoch: 19, BCELoss: 0.5302991718053818\u001b[0m\n",
      "\u001b[34mEpoch: 20, BCELoss: 0.519377589225769\u001b[0m\n",
      "\u001b[34m2021-05-05 19:14:21,117 sagemaker-containers INFO     Reporting training SUCCESS\u001b[0m\n",
      "\n",
      "2021-05-05 19:14:29 Uploading - Uploading generated training model\n",
      "2021-05-05 19:14:29 Completed - Training job completed\n",
      "Training seconds: 501\n",
      "Billable seconds: 501\n"
     ]
    }
   ],
   "source": [
    "estimator.fit({'training': data})"
   ]
  },
  {
   "cell_type": "code",
   "execution_count": 14,
   "metadata": {},
   "outputs": [
    {
     "name": "stderr",
     "output_type": "stream",
     "text": [
      "Parameter image will be renamed to image_uri in SageMaker Python SDK v2.\n",
      "'create_image_uri' will be deprecated in favor of 'ImageURIProvider' class in SageMaker Python SDK v2.\n"
     ]
    },
    {
     "name": "stdout",
     "output_type": "stream",
     "text": [
      "---------------!"
     ]
    }
   ],
   "source": [
    "project_predictor = estimator.deploy(initial_instance_count = 1, instance_type = 'ml.m4.xlarge')"
   ]
  },
  {
   "cell_type": "markdown",
   "metadata": {},
   "source": [
    "##### 3.3.3 Get predictions of LSTM model"
   ]
  },
  {
   "cell_type": "code",
   "execution_count": 15,
   "metadata": {},
   "outputs": [],
   "source": [
    "# We split the data into chunks and send each chunk seperately, accumulating the results.\n",
    "\n",
    "def predict(data, rows=512):\n",
    "    split_array = np.array_split(data, int(data.shape[0] / float(rows) + 1))\n",
    "    predictions = np.array([])\n",
    "    for array in split_array:\n",
    "        predictions = np.append(predictions, project_predictor.predict(array))\n",
    "    \n",
    "    return predictions"
   ]
  },
  {
   "cell_type": "code",
   "execution_count": 16,
   "metadata": {},
   "outputs": [],
   "source": [
    "predictions = predict(X_test.values)\n",
    "predictions_label = [round(num) for num in predictions]"
   ]
  },
  {
   "cell_type": "code",
   "execution_count": 17,
   "metadata": {},
   "outputs": [
    {
     "name": "stdout",
     "output_type": "stream",
     "text": [
      "The estimator had an auc of 51.49% and an accruacy of 52.00% in the test set\n"
     ]
    }
   ],
   "source": [
    "from sklearn.metrics import accuracy_score, roc_auc_score\n",
    "accuracy = accuracy_score(y_test, predictions_label)\n",
    "auc = roc_auc_score(y_test, predictions)\n",
    "\n",
    "print(f\"The estimator had an auc of {auc:.2%} and an accruacy of {accuracy:.2%} in the test set\")"
   ]
  },
  {
   "cell_type": "code",
   "execution_count": 18,
   "metadata": {},
   "outputs": [],
   "source": [
    "pd.DataFrame(predictions).to_csv(\"../predictions/lstm_predictions.csv\", index = False) # save for later"
   ]
  },
  {
   "cell_type": "markdown",
   "metadata": {},
   "source": [
    "##### 3.3.4. Test Deployment on Individual Lyric"
   ]
  },
  {
   "cell_type": "code",
   "execution_count": 24,
   "metadata": {},
   "outputs": [],
   "source": [
    "import pickle\n",
    "with open(\"../data/word_dict.pkl\", \"rb\") as f:\n",
    "        word_dict = pickle.load(f)"
   ]
  },
  {
   "cell_type": "code",
   "execution_count": 19,
   "metadata": {},
   "outputs": [],
   "source": [
    "test = \"Imagine there's no heaven It's easy if you try No hell below us Above us only sky Imagine all the people Living for today\""
   ]
  },
  {
   "cell_type": "code",
   "execution_count": 20,
   "metadata": {},
   "outputs": [],
   "source": [
    "#!pip install nltk"
   ]
  },
  {
   "cell_type": "code",
   "execution_count": 21,
   "metadata": {},
   "outputs": [
    {
     "name": "stderr",
     "output_type": "stream",
     "text": [
      "[nltk_data] Downloading package stopwords to\n",
      "[nltk_data]     /home/ec2-user/nltk_data...\n",
      "[nltk_data]   Unzipping corpora/stopwords.zip.\n",
      "[nltk_data] Downloading package words to /home/ec2-user/nltk_data...\n",
      "[nltk_data]   Unzipping corpora/words.zip.\n"
     ]
    }
   ],
   "source": [
    "import nltk\n",
    "from nltk.corpus import stopwords\n",
    "from nltk.stem.porter import *\n",
    "\n",
    "import re\n",
    "from bs4 import BeautifulSoup\n",
    "\n",
    "nltk.download('stopwords')\n",
    "nltk.download('words')\n",
    "\n",
    "def lyrics_to_words(lyrics):\n",
    "    '''\n",
    "    helper function to clean out song lyrics. We apply porter Stemmer algorithm and remove stopwords\n",
    "    '''\n",
    "    stopwords = nltk.corpus.stopwords.words('english')\n",
    "    newStopWords = ['verse','1', '2', 'chorus', 'bridge', 'talking', 'refrain', 'explain', 'request']\n",
    "    stopwords.extend(newStopWords)\n",
    "    stemmer = PorterStemmer()\n",
    "    \n",
    "    words_english = set(nltk.corpus.words.words())\n",
    "\n",
    "    remove_non_english = \" \".join(w for w in nltk.wordpunct_tokenize(lyrics) if w.lower() in words_english or not w.isalpha())\n",
    "    \n",
    "    text = re.sub(r\"[^a-zA-Z0-9]\", \" \", remove_non_english.lower()) # Convert to lower case\n",
    "    words = text.split() # Split string into words\n",
    "    words = [w for w in words if w not in stopwords] # Remove stopwords\n",
    "    words = [PorterStemmer().stem(w) for w in words] # stem\n",
    "    \n",
    "    return words"
   ]
  },
  {
   "cell_type": "code",
   "execution_count": 22,
   "metadata": {},
   "outputs": [],
   "source": [
    "def convert_and_pad(word_dict, sentence, pad=500):\n",
    "    NOWORD = 0 # We will use 0 to represent the 'no word' category\n",
    "    INFREQ = 1 # and we use 1 to represent the infrequent words, i.e., words not appearing in word_dict\n",
    "    \n",
    "    working_sentence = [NOWORD] * pad\n",
    "    \n",
    "    for word_index, word in enumerate(sentence[:pad]):\n",
    "        if word in word_dict:\n",
    "            working_sentence[word_index] = word_dict[word]\n",
    "        else:\n",
    "            working_sentence[word_index] = INFREQ\n",
    "            \n",
    "    return working_sentence, min(len(sentence), pad)"
   ]
  },
  {
   "cell_type": "code",
   "execution_count": 25,
   "metadata": {},
   "outputs": [],
   "source": [
    "process_data = lyrics_to_words(test)\n",
    "\n",
    "data_processed, length = convert_and_pad(word_dict, process_data)\n",
    "\n",
    "test_data = np.append(length, np.array(data_processed)).reshape(1,-1) # add the length in the beggining"
   ]
  },
  {
   "cell_type": "code",
   "execution_count": 30,
   "metadata": {},
   "outputs": [
    {
     "data": {
      "text/plain": [
       "array([[  12, 1056,  196,  291,   49,  270,   51,   51,  242, 1056,  156,\n",
       "          63,  297,    0,    0,    0,    0,    0,    0,    0,    0,    0,\n",
       "           0,    0,    0,    0,    0,    0,    0,    0,    0,    0,    0,\n",
       "           0,    0,    0,    0,    0,    0,    0,    0,    0,    0,    0,\n",
       "           0,    0,    0,    0,    0,    0,    0,    0,    0,    0,    0,\n",
       "           0,    0,    0,    0,    0,    0,    0,    0,    0,    0,    0,\n",
       "           0,    0,    0,    0,    0,    0,    0,    0,    0,    0,    0,\n",
       "           0,    0,    0,    0,    0,    0,    0,    0,    0,    0,    0,\n",
       "           0,    0,    0,    0,    0,    0,    0,    0,    0,    0,    0,\n",
       "           0,    0,    0,    0,    0,    0,    0,    0,    0,    0,    0,\n",
       "           0,    0,    0,    0,    0,    0,    0,    0,    0,    0,    0,\n",
       "           0,    0,    0,    0,    0,    0,    0,    0,    0,    0,    0,\n",
       "           0,    0,    0,    0,    0,    0,    0,    0,    0,    0,    0,\n",
       "           0,    0,    0,    0,    0,    0,    0,    0,    0,    0,    0,\n",
       "           0,    0,    0,    0,    0,    0,    0,    0,    0,    0,    0,\n",
       "           0,    0,    0,    0,    0,    0,    0,    0,    0,    0,    0,\n",
       "           0,    0,    0,    0,    0,    0,    0,    0,    0,    0,    0,\n",
       "           0,    0,    0,    0,    0,    0,    0,    0,    0,    0,    0,\n",
       "           0,    0,    0,    0,    0,    0,    0,    0,    0,    0,    0,\n",
       "           0,    0,    0,    0,    0,    0,    0,    0,    0,    0,    0,\n",
       "           0,    0,    0,    0,    0,    0,    0,    0,    0,    0,    0,\n",
       "           0,    0,    0,    0,    0,    0,    0,    0,    0,    0,    0,\n",
       "           0,    0,    0,    0,    0,    0,    0,    0,    0,    0,    0,\n",
       "           0,    0,    0,    0,    0,    0,    0,    0,    0,    0,    0,\n",
       "           0,    0,    0,    0,    0,    0,    0,    0,    0,    0,    0,\n",
       "           0,    0,    0,    0,    0,    0,    0,    0,    0,    0,    0,\n",
       "           0,    0,    0,    0,    0,    0,    0,    0,    0,    0,    0,\n",
       "           0,    0,    0,    0,    0,    0,    0,    0,    0,    0,    0,\n",
       "           0,    0,    0,    0,    0,    0,    0,    0,    0,    0,    0,\n",
       "           0,    0,    0,    0,    0,    0,    0,    0,    0,    0,    0,\n",
       "           0,    0,    0,    0,    0,    0,    0,    0,    0,    0,    0,\n",
       "           0,    0,    0,    0,    0,    0,    0,    0,    0,    0,    0,\n",
       "           0,    0,    0,    0,    0,    0,    0,    0,    0,    0,    0,\n",
       "           0,    0,    0,    0,    0,    0,    0,    0,    0,    0,    0,\n",
       "           0,    0,    0,    0,    0,    0,    0,    0,    0,    0,    0,\n",
       "           0,    0,    0,    0,    0,    0,    0,    0,    0,    0,    0,\n",
       "           0,    0,    0,    0,    0,    0,    0,    0,    0,    0,    0,\n",
       "           0,    0,    0,    0,    0,    0,    0,    0,    0,    0,    0,\n",
       "           0,    0,    0,    0,    0,    0,    0,    0,    0,    0,    0,\n",
       "           0,    0,    0,    0,    0,    0,    0,    0,    0,    0,    0,\n",
       "           0,    0,    0,    0,    0,    0,    0,    0,    0,    0,    0,\n",
       "           0,    0,    0,    0,    0,    0,    0,    0,    0,    0,    0,\n",
       "           0,    0,    0,    0,    0,    0,    0,    0,    0,    0,    0,\n",
       "           0,    0,    0,    0,    0,    0,    0,    0,    0,    0,    0,\n",
       "           0,    0,    0,    0,    0,    0,    0,    0,    0,    0,    0,\n",
       "           0,    0,    0,    0,    0,    0]])"
      ]
     },
     "execution_count": 30,
     "metadata": {},
     "output_type": "execute_result"
    }
   ],
   "source": [
    "test_data"
   ]
  },
  {
   "cell_type": "code",
   "execution_count": 52,
   "metadata": {},
   "outputs": [
    {
     "data": {
      "text/plain": [
       "array(0.6079634, dtype=float32)"
      ]
     },
     "execution_count": 52,
     "metadata": {},
     "output_type": "execute_result"
    }
   ],
   "source": [
    "project_predictor.predict(test_data)"
   ]
  },
  {
   "cell_type": "code",
   "execution_count": 59,
   "metadata": {},
   "outputs": [],
   "source": [
    "project_predictor.delete_endpoint()"
   ]
  },
  {
   "cell_type": "markdown",
   "metadata": {},
   "source": [
    "### 4. Model Evaluation\n",
    "In this section I quickly compare both models with some visualizations and metrics\n",
    "***"
   ]
  },
  {
   "cell_type": "code",
   "execution_count": 65,
   "metadata": {},
   "outputs": [
    {
     "name": "stdout",
     "output_type": "stream",
     "text": [
      "0    0.0\n",
      "1    0.0\n",
      "2    0.0\n",
      "3    0.0\n",
      "4    0.0\n",
      "Name: 1, dtype: float64\n",
      "0    0.342572\n",
      "1    0.775257\n",
      "2    0.422606\n",
      "3    0.223613\n",
      "4    0.205858\n",
      "Name: 0, dtype: float64\n"
     ]
    }
   ],
   "source": [
    "y_preds_bayes = pd.read_csv(\"../predictions/bayes_predictions.csv\").iloc[:,1]\n",
    "y_preds_lstm = pd.read_csv(\"../predictions/lstm_predictions.csv\").iloc[:,0]\n",
    "\n",
    "print(y_preds_bayes[:5])\n",
    "print(y_preds_lstm[:5])"
   ]
  },
  {
   "cell_type": "code",
   "execution_count": 66,
   "metadata": {},
   "outputs": [
    {
     "data": {
      "text/plain": [
       "count    200.000000\n",
       "mean       0.055000\n",
       "std        0.228552\n",
       "min        0.000000\n",
       "25%        0.000000\n",
       "50%        0.000000\n",
       "75%        0.000000\n",
       "max        1.000000\n",
       "Name: 1, dtype: float64"
      ]
     },
     "execution_count": 66,
     "metadata": {},
     "output_type": "execute_result"
    }
   ],
   "source": [
    "y_preds_bayes.describe()"
   ]
  },
  {
   "cell_type": "code",
   "execution_count": 67,
   "metadata": {},
   "outputs": [],
   "source": [
    "models = {\n",
    "    'predictions': [y_preds_bayes, y_preds_lstm],\n",
    "    'labels': ['Naive Bayes', 'LSTM'],\n",
    "    'colors': ['#FF8F33', '#C70039']\n",
    "}"
   ]
  },
  {
   "cell_type": "code",
   "execution_count": 68,
   "metadata": {},
   "outputs": [],
   "source": [
    "from sklearn.metrics import classification_report, confusion_matrix\n",
    "\n",
    "def print_classification_reports(models, X_test, y_test):\n",
    "    \n",
    "    '''\n",
    "    function that prints out the confusion matrixes for the the test set of a list of models\n",
    "    -----------------------------------------------------------------------\n",
    "    arguments:\n",
    "        models (dictionary) = dictionary with model objects and labels. Example: {'models':[model1], 'labels':[label1]}\n",
    "        X_test (pandas DataFrame) = dataframe used for testing the model\n",
    "        y_test (numpy array or Pandas Data Frame) = array with actual values of your target variable in the testing set\n",
    "    '''\n",
    "    \n",
    "    for pred, label in zip(models['predictions'], models['labels']):\n",
    "        \n",
    "        pred = [round(num) for num in pred]\n",
    "        report = classification_report(y_test, pred)\n",
    "        matrix = confusion_matrix(y_test, pred)\n",
    "        \n",
    "        matrix_df = pd.DataFrame(matrix)\n",
    "        matrix_df.columns = ['Predicted 0', 'Predicted 1']\n",
    "        matrix_df.index = ['Actual 0', 'Actual 1']\n",
    "        \n",
    "        print(f\"Model analyzed: {label} \\n\")\n",
    "        print(matrix_df)\n",
    "        print(report)\n",
    "        print(\"==============================\")"
   ]
  },
  {
   "cell_type": "code",
   "execution_count": 69,
   "metadata": {},
   "outputs": [
    {
     "name": "stdout",
     "output_type": "stream",
     "text": [
      "Model analyzed: Naive Bayes \n",
      "\n",
      "          Predicted 0  Predicted 1\n",
      "Actual 0           95            4\n",
      "Actual 1           94            7\n",
      "              precision    recall  f1-score   support\n",
      "\n",
      "           0       0.50      0.96      0.66        99\n",
      "           1       0.64      0.07      0.13       101\n",
      "\n",
      "    accuracy                           0.51       200\n",
      "   macro avg       0.57      0.51      0.39       200\n",
      "weighted avg       0.57      0.51      0.39       200\n",
      "\n",
      "==============================\n",
      "Model analyzed: LSTM \n",
      "\n",
      "          Predicted 0  Predicted 1\n",
      "Actual 0           54           45\n",
      "Actual 1           51           50\n",
      "              precision    recall  f1-score   support\n",
      "\n",
      "           0       0.51      0.55      0.53        99\n",
      "           1       0.53      0.50      0.51       101\n",
      "\n",
      "    accuracy                           0.52       200\n",
      "   macro avg       0.52      0.52      0.52       200\n",
      "weighted avg       0.52      0.52      0.52       200\n",
      "\n",
      "==============================\n"
     ]
    }
   ],
   "source": [
    "print_classification_reports(models, X_test, y_test)"
   ]
  },
  {
   "cell_type": "code",
   "execution_count": 70,
   "metadata": {},
   "outputs": [],
   "source": [
    "def plot_roc_curves(models, X_test, y_test):\n",
    "    '''\n",
    "    function that prints out the roc-auc score for the training set and the test set of a given model\n",
    "    -----------------------------------------------------------------------\n",
    "    arguments:\n",
    "        models (dictionary) = dictionary with model objects and labels. Example: {'classifiers':[model1], 'labels':[label1]}\n",
    "        X_test (pandas DataFrame) = dataframe used for testing the model\n",
    "        y_test (numpy array or Pandas Data Frame) = array with actual values of your target variable in the testing set\n",
    "    '''\n",
    "    from sklearn.metrics import roc_auc_score, roc_curve\n",
    "    \n",
    "    result_table = pd.DataFrame(columns=['labels', 'fpr','tpr','auc'])\n",
    "    \n",
    "    for preds, label, color in zip(models['predictions'], models['labels'], models['colors']):\n",
    "        \n",
    "        y_preds  = preds\n",
    "        \n",
    "        # extract false positive rates and true positive rates\n",
    "        fpr, tpr, thresholds = roc_curve(y_test, y_preds)\n",
    "        auc = roc_auc_score(y_test, y_preds)\n",
    "        \n",
    "        result_table = result_table.append({'labels':label,\n",
    "                                            'fpr':fpr, \n",
    "                                            'tpr':tpr, \n",
    "                                            'auc':auc,\n",
    "                                            'color': color}, ignore_index=True)\n",
    "        \n",
    "   \n",
    "    result_table.set_index('labels', inplace=True)\n",
    "    \n",
    "    # create figure and axe\n",
    "    fig, ax = plt.subplots(figsize= (10,10))\n",
    "    \n",
    "    for i in result_table.index:\n",
    "\n",
    "        ax1 = plt.plot(result_table.loc[i]['fpr'], \n",
    "                       result_table.loc[i]['tpr'], \n",
    "                       label=f\"{i}: auc= {result_table.loc[i]['auc']:.2%}\",\n",
    "                       color = result_table.loc[i]['color'])\n",
    "        \n",
    "    # Plot ROC curve\n",
    "    plt.plot([0, 1], [0, 1], 'k--')\n",
    "    plt.xlabel('False Positive Rate')\n",
    "    plt.ylabel('True Positive Rate')\n",
    "    plt.title('ROC Curve')\n",
    "    leg = ax.legend()\n",
    "    \n",
    "    return ax1"
   ]
  },
  {
   "cell_type": "code",
   "execution_count": 71,
   "metadata": {},
   "outputs": [
    {
     "data": {
      "text/plain": [
       "[<matplotlib.lines.Line2D at 0x7fd46f334550>]"
      ]
     },
     "execution_count": 71,
     "metadata": {},
     "output_type": "execute_result"
    },
    {
     "data": {
      "image/png": "[encoded data removed]",
      "text/plain": [
       "<Figure size 720x720 with 1 Axes>"
      ]
     },
     "metadata": {
      "needs_background": "light"
     },
     "output_type": "display_data"
    }
   ],
   "source": [
    "plot_roc_curves(models, X_test, y_test)"
   ]
  },
  {
   "cell_type": "code",
   "execution_count": 79,
   "metadata": {},
   "outputs": [],
   "source": [
    "from sklearn.calibration import calibration_curve\n",
    "\n",
    "def plot_calibration_curve(models, X_test, y_test, n_bins = 20):\n",
    "    \n",
    "    '''\n",
    "    function that returns plots of calibrated probabilities of a classification model. \n",
    "    -----------------------------------------------------------------------\n",
    "    arguments:\n",
    "        models (dictionary) = dictionary with model objects and labels. Example: {'models':[model1], 'labels':[label1]}\n",
    "        X_test (pandas DataFrame) = dataframe used for testing the model\n",
    "        y_test (numpy array or Pandas Data Frame) = array with actual values of your target variable in the testing set\n",
    "        n_bins (integer) = number of bins used for the plots\n",
    "    '''    \n",
    "    result_table = pd.DataFrame(columns=['labels', 'fraction_pos','mean_pred'])\n",
    "        \n",
    "    for pred, label, color in zip(models['predictions'], models['labels'], models['colors']):\n",
    "                        \n",
    "        fraction_of_positives, mean_predicted_value = calibration_curve(y_test, pred, n_bins=n_bins)\n",
    "        \n",
    "        result_table = result_table.append({'labels': label,\n",
    "                                            'preds': pred,\n",
    "                                            'fraction_pos': fraction_of_positives, \n",
    "                                            'mean_pred': mean_predicted_value,\n",
    "                                            'color': color\n",
    "                                            }, ignore_index=True)\n",
    "        \n",
    "    # create figure and axe\n",
    "    plt.figure(figsize=(10, 10))\n",
    "    ax1 = plt.subplot2grid((3, 1), (0, 0))\n",
    "    \n",
    "    ax1.plot([0, 1], [0, 1], linestyle='--', color = 'black', label = 'Perfectly Calibrated Plot')\n",
    "    \n",
    "    for i in result_table.index:\n",
    "        \n",
    "        plot1 = ax1.plot(result_table.loc[i]['mean_pred'], \n",
    "                         result_table.loc[i]['fraction_pos'],\n",
    "                         label = result_table.loc[i]['labels'],\n",
    "                         marker='.',\n",
    "                         color = result_table.loc[i]['color'])\n",
    "        \n",
    "        plot2 = sns.displot(x = result_table.loc[i]['preds'], \n",
    "                            bins = n_bins, \n",
    "                            label = result_table.loc[i]['labels'],\n",
    "                             color = result_table.loc[i]['color']#,\n",
    "                             #ax = ax2\n",
    "                            )\n",
    "        \n",
    "    ax1.set_ylabel(\"Fraction of positives\")\n",
    "    ax1.set_ylim([-0.05, 1.05])\n",
    "    ax1.legend(loc=\"upper left\")\n",
    "    ax1.set_title('Calibration plots')\n",
    "\n",
    "    #ax2.set_xlabel(\"Mean predicted value\")\n",
    "    #ax2.set_ylabel(\"Count\")\n",
    "    #ax2.legend(loc=\"upper right\", ncol=2)\n",
    "\n",
    "    return plot1, plot2"
   ]
  },
  {
   "cell_type": "code",
   "execution_count": 80,
   "metadata": {},
   "outputs": [
    {
     "data": {
      "image/png": "[encoded data removed]",
      "text/plain": [
       "<Figure size 720x720 with 1 Axes>"
      ]
     },
     "metadata": {
      "needs_background": "light"
     },
     "output_type": "display_data"
    },
    {
     "data": {
      "image/png": "[encoded data removed]",
      "text/plain": [
       "<Figure size 360x360 with 1 Axes>"
      ]
     },
     "metadata": {
      "needs_background": "light"
     },
     "output_type": "display_data"
    },
    {
     "data": {
      "image/png": "[encoded data removed]",
      "text/plain": [
       "<Figure size 360x360 with 1 Axes>"
      ]
     },
     "metadata": {
      "needs_background": "light"
     },
     "output_type": "display_data"
    }
   ],
   "source": [
    "plot_calibration_curve(models, X_test, y_test, n_bins = 20)\n",
    "plt.show()"
   ]
  },
  {
   "cell_type": "markdown",
   "metadata": {},
   "source": [
    "### 4. Deploy the model for the web app"
   ]
  },
  {
   "cell_type": "code",
   "execution_count": 15,
   "metadata": {},
   "outputs": [
    {
     "data": {
      "text/plain": [
       "<sagemaker.pytorch.estimator.PyTorch at 0x7f15e85d6ef0>"
      ]
     },
     "execution_count": 15,
     "metadata": {},
     "output_type": "execute_result"
    }
   ],
   "source": [
    "estimator"
   ]
  },
  {
   "cell_type": "code",
   "execution_count": 17,
   "metadata": {},
   "outputs": [
    {
     "name": "stderr",
     "output_type": "stream",
     "text": [
      "Parameter image will be renamed to image_uri in SageMaker Python SDK v2.\n",
      "'create_image_uri' will be deprecated in favor of 'ImageURIProvider' class in SageMaker Python SDK v2.\n"
     ]
    },
    {
     "name": "stdout",
     "output_type": "stream",
     "text": [
      "---------------!"
     ]
    }
   ],
   "source": [
    "from sagemaker.predictor import RealTimePredictor\n",
    "from sagemaker.pytorch import PyTorchModel\n",
    "\n",
    "class StringPredictor(RealTimePredictor):\n",
    "    def __init__(self, endpoint_name, sagemaker_session):\n",
    "        super(StringPredictor, self).__init__(endpoint_name, sagemaker_session, content_type='text/plain')\n",
    "\n",
    "model = PyTorchModel(model_data=estimator.model_data,\n",
    "                     role = role,\n",
    "                     framework_version='0.4.0',\n",
    "                     entry_point='predict.py',\n",
    "                     source_dir='./utilis/lstm_model',\n",
    "                     predictor_cls=StringPredictor)\n",
    "predictor = model.deploy(initial_instance_count=1, instance_type='ml.m4.xlarge')"
   ]
  },
  {
   "cell_type": "code",
   "execution_count": 27,
   "metadata": {},
   "outputs": [
    {
     "data": {
      "text/plain": [
       "array([[  12, 1056,  196,  291,   49,  270,   51,   51,  242, 1056,  156,\n",
       "          63,  297,    0,    0,    0,    0,    0,    0,    0,    0,    0,\n",
       "           0,    0,    0,    0,    0,    0,    0,    0,    0,    0,    0,\n",
       "           0,    0,    0,    0,    0,    0,    0,    0,    0,    0,    0,\n",
       "           0,    0,    0,    0,    0,    0,    0,    0,    0,    0,    0,\n",
       "           0,    0,    0,    0,    0,    0,    0,    0,    0,    0,    0,\n",
       "           0,    0,    0,    0,    0,    0,    0,    0,    0,    0,    0,\n",
       "           0,    0,    0,    0,    0,    0,    0,    0,    0,    0,    0,\n",
       "           0,    0,    0,    0,    0,    0,    0,    0,    0,    0,    0,\n",
       "           0,    0,    0,    0,    0,    0,    0,    0,    0,    0,    0,\n",
       "           0,    0,    0,    0,    0,    0,    0,    0,    0,    0,    0,\n",
       "           0,    0,    0,    0,    0,    0,    0,    0,    0,    0,    0,\n",
       "           0,    0,    0,    0,    0,    0,    0,    0,    0,    0,    0,\n",
       "           0,    0,    0,    0,    0,    0,    0,    0,    0,    0,    0,\n",
       "           0,    0,    0,    0,    0,    0,    0,    0,    0,    0,    0,\n",
       "           0,    0,    0,    0,    0,    0,    0,    0,    0,    0,    0,\n",
       "           0,    0,    0,    0,    0,    0,    0,    0,    0,    0,    0,\n",
       "           0,    0,    0,    0,    0,    0,    0,    0,    0,    0,    0,\n",
       "           0,    0,    0,    0,    0,    0,    0,    0,    0,    0,    0,\n",
       "           0,    0,    0,    0,    0,    0,    0,    0,    0,    0,    0,\n",
       "           0,    0,    0,    0,    0,    0,    0,    0,    0,    0,    0,\n",
       "           0,    0,    0,    0,    0,    0,    0,    0,    0,    0,    0,\n",
       "           0,    0,    0,    0,    0,    0,    0,    0,    0,    0,    0,\n",
       "           0,    0,    0,    0,    0,    0,    0,    0,    0,    0,    0,\n",
       "           0,    0,    0,    0,    0,    0,    0,    0,    0,    0,    0,\n",
       "           0,    0,    0,    0,    0,    0,    0,    0,    0,    0,    0,\n",
       "           0,    0,    0,    0,    0,    0,    0,    0,    0,    0,    0,\n",
       "           0,    0,    0,    0,    0,    0,    0,    0,    0,    0,    0,\n",
       "           0,    0,    0,    0,    0,    0,    0,    0,    0,    0,    0,\n",
       "           0,    0,    0,    0,    0,    0,    0,    0,    0,    0,    0,\n",
       "           0,    0,    0,    0,    0,    0,    0,    0,    0,    0,    0,\n",
       "           0,    0,    0,    0,    0,    0,    0,    0,    0,    0,    0,\n",
       "           0,    0,    0,    0,    0,    0,    0,    0,    0,    0,    0,\n",
       "           0,    0,    0,    0,    0,    0,    0,    0,    0,    0,    0,\n",
       "           0,    0,    0,    0,    0,    0,    0,    0,    0,    0,    0,\n",
       "           0,    0,    0,    0,    0,    0,    0,    0,    0,    0,    0,\n",
       "           0,    0,    0,    0,    0,    0,    0,    0,    0,    0,    0,\n",
       "           0,    0,    0,    0,    0,    0,    0,    0,    0,    0,    0,\n",
       "           0,    0,    0,    0,    0,    0,    0,    0,    0,    0,    0,\n",
       "           0,    0,    0,    0,    0,    0,    0,    0,    0,    0,    0,\n",
       "           0,    0,    0,    0,    0,    0,    0,    0,    0,    0,    0,\n",
       "           0,    0,    0,    0,    0,    0,    0,    0,    0,    0,    0,\n",
       "           0,    0,    0,    0,    0,    0,    0,    0,    0,    0,    0,\n",
       "           0,    0,    0,    0,    0,    0,    0,    0,    0,    0,    0,\n",
       "           0,    0,    0,    0,    0,    0,    0,    0,    0,    0,    0,\n",
       "           0,    0,    0,    0,    0,    0]])"
      ]
     },
     "execution_count": 27,
     "metadata": {},
     "output_type": "execute_result"
    }
   ],
   "source": [
    "test_data"
   ]
  },
  {
   "cell_type": "code",
   "execution_count": 41,
   "metadata": {},
   "outputs": [],
   "source": [
    "test = \"Fuck you and all the other bitches here and there\""
   ]
  },
  {
   "cell_type": "code",
   "execution_count": 42,
   "metadata": {},
   "outputs": [
    {
     "data": {
      "text/plain": [
       "b'0'"
      ]
     },
     "execution_count": 42,
     "metadata": {},
     "output_type": "execute_result"
    }
   ],
   "source": [
    "predictor.predict(test)"
   ]
  },
  {
   "cell_type": "code",
   "execution_count": 43,
   "metadata": {},
   "outputs": [
    {
     "data": {
      "text/plain": [
       "'sagemaker-pytorch-2021-05-05-20-22-04-657'"
      ]
     },
     "execution_count": 43,
     "metadata": {},
     "output_type": "execute_result"
    }
   ],
   "source": [
    "predictor.endpoint"
   ]
  },
  {
   "cell_type": "markdown",
   "metadata": {},
   "source": [
    "Lambda function used:\n",
    "```python\n",
    "import boto3\n",
    "\n",
    "def lambda_handler(event, context):\n",
    "\n",
    "    # The SageMaker runtime is what allows us to invoke the endpoint that we've created.\n",
    "    runtime = boto3.Session().client('sagemaker-runtime')\n",
    "\n",
    "    # Now we use the SageMaker runtime to invoke our endpoint, sending the review we were given\n",
    "    response = runtime.invoke_endpoint(EndpointName = 'sagemaker-pytorch-2021-05-05-20-22-04-657',    # The name of the endpoint we created\n",
    "                                       ContentType = 'text/plain',                 # The data format that is expected\n",
    "                                       Body = event['body'])                       # The actual review\n",
    "\n",
    "    # The response is an HTTP response whose body contains the result of our inference\n",
    "    result = response['Body'].read().decode('utf-8')\n",
    "\n",
    "    return {\n",
    "        'statusCode' : 200,\n",
    "        'headers' : { 'Content-Type' : 'text/plain', 'Access-Control-Allow-Origin' : '*' },\n",
    "        'body' : result\n",
    "    }\n",
    "```"
   ]
  },
  {
   "cell_type": "markdown",
   "metadata": {},
   "source": [
    "URL generated while setting up the Public API:\n",
    "https://pen9ve5p7g.execute-api.us-east-2.amazonaws.com/prod"
   ]
  },
  {
   "cell_type": "code",
   "execution_count": 35,
   "metadata": {},
   "outputs": [
    {
     "name": "stdout",
     "output_type": "stream",
     "text": [
      "{'love': 2, 'like': 3, 'know': 4, 'got': 5, 'oh': 6, 'time': 7, 'get': 8, 'let': 9, 'go': 10, 'come': 11, 'one': 12, 'yeah': 13, 'make': 14, 'babi': 15, 'never': 16, 'see': 17, 'way': 18, 'la': 19, 'take': 20, 'say': 21, 'need': 22, 'want': 23, 'away': 24, 'feel': 25, 'caus': 26, 'day': 27, 'night': 28, 'life': 29, 'back': 30, 'think': 31, 'heart': 32, 'girl': 33, 'de': 34, 'tell': 35, 'right': 36, 'could': 37, 'littl': 38, 'man': 39, 'keep': 40, 'said': 41, 'good': 42, 'give': 43, 'look': 44, 'still': 45, 'well': 46, 'world': 47, 'around': 48, 'tri': 49, 'find': 50, 'us': 51, 'fall': 52, 'hey': 53, 'everi': 54, 'would': 55, 'alway': 56, 'mi': 57, 'turn': 58, 'te': 59, 'wait': 60, 'mind': 61, 'ya': 62, 'live': 63, 'new': 64, 'hold': 65, 'insid': 66, 'long': 67, 'someon': 68, 'thing': 69, 'everyth': 70, 'walk': 71, 'yo': 72, 'home': 73, 'better': 74, 'head': 75, 'leav': 76, 'light': 77, 'hear': 78, 'call': 79, 'realli': 80, 'el': 81, 'boy': 82, 'ever': 83, 'gone': 84, 'show': 85, 'danc': 86, 'un': 87, 'anoth': 88, 'put': 89, 'cri': 90, 'even': 91, 'two': 92, 'left': 93, 'hard': 94, 'stay': 95, 'tonight': 96, 'se': 97, 'old': 98, 'stop': 99, 'face': 100, 'money': 101, 'play': 102, 'much': 103, 'alon': 104, 'run': 105, 'break': 106, 'rock': 107, 'hand': 108, 'big': 109, 'rememb': 110, 'da': 111, 'rain': 112, 'made': 113, 'noth': 114, 'die': 115, 'true': 116, 'fire': 117, 'real': 118, 'bring': 119, 'late': 120, 'en': 121, 'god': 122, 'start': 123, 'si': 124, 'em': 125, 'es': 126, 'tu': 127, 'move': 128, 'high': 129, 'end': 130, 'talk': 131, 'someth': 132, 'sing': 133, 'first': 134, 'forev': 135, 'breath': 136, 'lo': 137, 'told': 138, 'use': 139, 'free': 140, 'cold': 141, 'side': 142, 'amor': 143, 'deep': 144, 'hope': 145, 'ride': 146, 'bad': 147, 'stand': 148, 'place': 149, 'far': 150, 'believ': 151, 'chang': 152, 'ah': 153, 'lost': 154, 'wish': 155, 'peopl': 156, 'bitch': 157, 'miss': 158, 'dream': 159, 'blue': 160, 'care': 161, 'citi': 162, 'pleas': 163, 'burn': 164, 'everybodi': 165, 'alright': 166, 'best': 167, 'thought': 168, 'knew': 169, 'found': 170, 'sometim': 171, 'last': 172, 'soul': 173, 'dark': 174, 'help': 175, 'watch': 176, 'might': 177, 'hate': 178, 'togeth': 179, 'smile': 180, 'mean': 181, 'sun': 182, 'sweet': 183, 'wrong': 184, 'must': 185, 'son': 186, 'kiss': 187, 'sin': 188, 'hide': 189, 'ti': 190, 'na': 191, 'roll': 192, 'sleep': 193, 'boom': 194, 'work': 195, 'heaven': 196, 'mani': 197, 'listen': 198, 'street': 199, 'done': 200, 'pain': 201, 'hit': 202, 'juic': 203, 'lot': 204, 'may': 205, 'name': 206, 'close': 207, 'ye': 208, 'beat': 209, 'came': 210, 'black': 211, 'without': 212, 'matter': 213, 'till': 214, 'town': 215, 'hous': 216, 'pretti': 217, 'ay': 218, 'song': 219, 'friend': 220, 'whoa': 221, 'anyth': 222, 'sure': 223, 'enough': 224, 'young': 225, 'guess': 226, 'mine': 227, 'crazi': 228, 'con': 229, 'lose': 230, 'touch': 231, 'happi': 232, 'seen': 233, 'babe': 234, 'til': 235, 'ground': 236, 'road': 237, 'woman': 238, 'broken': 239, 'fight': 240, 'hurt': 241, 'sky': 242, 'music': 243, 'beauti': 244, 'sound': 245, 'drink': 246, 'nobodi': 247, 'saw': 248, 'fun': 249, 'bodi': 250, 'slow': 251, 'morn': 252, 'final': 253, 'mayb': 254, 'solo': 255, 'forget': 256, 'born': 257, 'lie': 258, 'whole': 259, 'ha': 260, 'damn': 261, 'fli': 262, 'along': 263, 'game': 264, 'countri': 265, 'pay': 266, 'learn': 267, 'save': 268, 'behind': 269, 'hell': 270, 'understand': 271, 'lord': 272, 'round': 273, 'dead': 274, 'door': 275, 'next': 276, 'fool': 277, 'shine': 278, 'gave': 279, 'dress': 280, 'wake': 281, 'e': 282, 'three': 283, 'top': 284, 'swing': 285, 'ma': 286, 'yah': 287, 'sad': 288, 'somewher': 289, 'ass': 290, 'easi': 291, 'almost': 292, 'reach': 293, 'throw': 294, 'kill': 295, 'full': 296, 'today': 297, 'differ': 298, 'gun': 299, 'great': 300, 'took': 301, 'ladi': 302, 'drive': 303, 'goe': 304, 'honey': 305, 'luna': 306, 'line': 307, 'ask': 308, 'somebodi': 309, 'chanc': 310, 'lay': 311, 'truth': 312, 'floor': 313, 'brother': 314, 'reason': 315, 'wonder': 316, 'spend': 317, 'meant': 318, 'air': 319, 'summer': 320, 'c': 321, 'kind': 322, 'went': 323, 'cut': 324, 'though': 325, 'sit': 326, 'room': 327, 'water': 328, 'phone': 329, 'eye': 330, 'white': 331, 'tire': 332, 'set': 333, 'els': 334, 'pass': 335, 'wast': 336, 'wear': 337, 'fine': 338, 'strong': 339, 'tan': 340, 'cool': 341, 'mother': 342, 'red': 343, 'open': 344, 'yea': 345, 'fast': 346, 'para': 347, 'hot': 348, 'mad': 349, 'land': 350, 'king': 351, 'past': 352, 'war': 353, 'soon': 354, 'wind': 355, 'readi': 356, 'met': 357, 'repeat': 358, 'closer': 359, 'straight': 360, 'sorri': 361, 'arm': 362, 'chop': 363, 'hair': 364, 'hook': 365, 'gon': 366, '3': 367, 'al': 368, 'snow': 369, 'moon': 370, 'front': 371, 'lone': 372, 'blood': 373, 'teeth': 374, 'angel': 375, 'swear': 376, 'stare': 377, 'aliv': 378, 'low': 379, 'fade': 380, 'half': 381, 'bout': 382, 'fear': 383, 'quit': 384, 'laugh': 385, 'sinc': 386, 'stori': 387, 'dust': 388, 'daddi': 389, 'merri': 390, 'earth': 391, 'tomorrow': 392, 'apart': 393, 'promis': 394, 'number': 395, 'tight': 396, 'bed': 397, 'broke': 398, 'kick': 399, 'freedom': 400, 'brain': 401, 'meet': 402, 'blind': 403, 'nice': 404, 'rest': 405, 'outsid': 406, 'tast': 407, 'wild': 408, 'gold': 409, 'word': 410, 'bit': 411, 'bar': 412, 'step': 413, 'star': 414, 'child': 415, 'voic': 416, 'check': 417, 'caught': 418, 'school': 419, 'ruin': 420, 'smoke': 421, 'ten': 422, 'part': 423, 'death': 424, 'rise': 425, 'di': 426, 'stone': 427, 'rap': 428, 'super': 429, 'lust': 430, 'dog': 431, 'mouth': 432, 'five': 433, 'l': 434, 'control': 435, 'joy': 436, 'scream': 437, 'wit': 438, 'read': 439, 'memori': 440, 'shake': 441, 'treat': 442, 'trick': 443, 'ice': 444, 'che': 445, 'float': 446, 'anyon': 447, 'bass': 448, 'built': 449, 'sea': 450, 'year': 451, 'bottom': 452, 'win': 453, 'ring': 454, 'catch': 455, 'winter': 456, 'worri': 457, 'x2': 458, 'everywher': 459, 'warm': 460, 'bullet': 461, 'search': 462, 'push': 463, 'g': 464, 'becom': 465, 'danger': 466, 'ho': 467, 'mirror': 468, 'twist': 469, 'seem': 470, 'perfect': 471, 'peac': 472, 'strang': 473, 'moment': 474, 'green': 475, 'fiesta': 476, 'within': 477, 'faith': 478, 'fat': 479, 'sign': 480, 'drop': 481, 'parti': 482, 'n': 483, 'fill': 484, 'ex': 485, 'train': 486, 'midnight': 487, 'noel': 488, 'bet': 489, 'power': 490, 'pull': 491, 'magic': 492, 'ahead': 493, 'everyon': 494, 'guitar': 495, 'speak': 496, 'blame': 497, 'across': 498, 'yet': 499, 'whatev': 500, 'jump': 501, 'middl': 502, 'candela': 503, 'dame': 504, 'second': 505, 'car': 506, 'somehow': 507, 'pour': 508, 'summertim': 509, 'wire': 510, 'cloth': 511, 'pride': 512, 'lover': 513, 'blow': 514, 'tender': 515, 'begin': 516, 'highway': 517, 'thousand': 518, 'fell': 519, 'point': 520, 'figur': 521, 'grow': 522, 'afraid': 523, 'glad': 524, 'pop': 525, 'cannot': 526, '4': 527, 'futur': 528, 'sight': 529, 'sugar': 530, 'fa': 531, 'four': 532, 'bon': 533, 'dale': 534, 'doubt': 535, 'devil': 536, 'longer': 537, 'guy': 538, 'lifetim': 539, 'clear': 540, 'corner': 541, 'cross': 542, 'pray': 543, 'natur': 544, 'none': 545, 'funki': 546, 'bop': 547, 'funni': 548, 'kept': 549, 'near': 550, 'write': 551, 'hole': 552, 'felt': 553, 'mari': 554, 'sand': 555, 'person': 556, 'wall': 557, 'color': 558, 'radio': 559, 'million': 560, 'bright': 561, 'tear': 562, 'shelter': 563, 'trust': 564, 'busi': 565, 'funk': 566, 'wine': 567, 'pictur': 568, 'cash': 569, 'taken': 570, 'famili': 571, '2x': 572, 'follow': 573, 'alreadi': 574, 'sa': 575, 'tree': 576, 'mood': 577, 'shoo': 578, 'colour': 579, 'bottl': 580, 'lead': 581, 'job': 582, 'passion': 583, 'upon': 584, 'probabl': 585, 'skin': 586, 'south': 587, 'paint': 588, 'seven': 589, 'bend': 590, 'pink': 591, 'nowher': 592, 'plan': 593, 'act': 594, 'holi': 595, 'ago': 596, 'yesterday': 597, 'tie': 598, 'pick': 599, 'lean': 600, 'x4': 601, 'shot': 602, 'men': 603, 'spring': 604, 'twice': 605, 'attitud': 606, 'k': 607, 'miseri': 608, 'ich': 609, 'tha': 610, 'hour': 611, 'wife': 612, 'motion': 613, 'brand': 614, 'queen': 615, 'messag': 616, 'rather': 617, 'besid': 618, 'sleigh': 619, '9': 620, 'storm': 621, 'bone': 622, 'drag': 623, 'mark': 624, 'eat': 625, 'build': 626, 'hoy': 627, 'favorit': 628, 'sail': 629, 'insan': 630, 'space': 631, 'carri': 632, 'rais': 633, 'u': 634, 'batman': 635, 'hug': 636, 'jean': 637, 'wave': 638, 'glass': 639, 'share': 640, 'someday': 641, 'woke': 642, 'buy': 643, 'freak': 644, 'twilight': 645, 'father': 646, 'style': 647, 'poison': 648, 'crawl': 649, 'plu': 650, 'pack': 651, 'spin': 652, 'j': 653, 'shook': 654, 'untouch': 655, 'cult': 656, 'marri': 657, 'sink': 658, 'crew': 659, 'spread': 660, 'beach': 661, 'endless': 662, 'ocean': 663, 'drip': 664, 'empti': 665, 'hip': 666, 'ser': 667, 'thank': 668, 'clean': 669, 'everyday': 670, 'welcom': 671, 'electr': 672, 'known': 673, 'rhyme': 674, 'happen': 675, 'chill': 676, 'escap': 677, 'window': 678, 'frame': 679, 'dri': 680, 'human': 681, 'decid': 682, 'weed': 683, 'pocket': 684, 'rude': 685, 'axe': 686, 'worth': 687, 'anyway': 688, 'answer': 689, 'crack': 690, 'slip': 691, 'shoot': 692, 'choic': 693, 'suppos': 694, 'cover': 695, 'action': 696, 'wide': 697, 'spot': 698, 'flow': 699, 'grace': 700, 'beast': 701, 'mountain': 702, 'dime': 703, 'mon': 704, 'sunshin': 705, 'dawn': 706, 'flame': 707, 'stupid': 708, 'edg': 709, 'shout': 710, 'heartbeat': 711, 'sued': 712, 'crime': 713, 'glori': 714, 'steal': 715, 'exactli': 716, 'wash': 717, 'gay': 718, 'sick': 719, 'hood': 720, 'weather': 721, 'stood': 722, 'drunk': 723, 'cherri': 724, 'bleed': 725, 'spell': 726, 'special': 727, 'less': 728, 'van': 729, 'heat': 730, 'bust': 731, 'hop': 732, 'later': 733, 'question': 734, 'small': 735, 'stick': 736, 'hill': 737, 'short': 738, 'huh': 739, 'non': 740, 'loud': 741, 'hungri': 742, 'mess': 743, 'awak': 744, 'cain': 745, 'travi': 746, 'book': 747, 'lock': 748, 'scene': 749, 'letter': 750, 'pretend': 751, 'san': 752, 'sister': 753, 'blown': 754, 'list': 755, 'comfort': 756, 'chump': 757, 'sent': 758, 'given': 759, 'wrote': 760, 'mistak': 761, 'whisper': 762, 'realiti': 763, 'self': 764, 'wrap': 765, 'aint': 766, 'singl': 767, 'surpris': 768, 'wheel': 769, 'mighti': 770, 'safe': 771, 'separ': 772, 'bless': 773, 'smell': 774, 'case': 775, 'age': 776, 'wet': 777, 'sell': 778, 'track': 779, 'poco': 780, 'fallen': 781, 'weak': 782, 'remind': 783, 'dear': 784, 'belong': 785, 'breathless': 786, 'tall': 787, 'cha': 788, 'dirti': 789, 'rush': 790, 'bye': 791, 'uptown': 792, 'hang': 793, 'punk': 794, 'um': 795, 'lift': 796, 'ting': 797, 'remain': 798, 'silenc': 799, '10': 800, 'zone': 801, 'guilti': 802, 'minut': 803, 'bum': 804, 'deal': 805, 'send': 806, 'stuck': 807, 'sola': 808, 'cheap': 809, 'six': 810, 'paradis': 811, 'raini': 812, 'mike': 813, 'groov': 814, 'mo': 815, 'violent': 816, 'buddi': 817, 'tequila': 818, 'shame': 819, 'beyond': 820, 'ga': 821, 'stride': 822, 'romanc': 823, 'simpl': 824, 'ador': 825, 'fix': 826, 'pen': 827, 'quick': 828, 'harder': 829, 'giddi': 830, 'pie': 831, 'tongu': 832, 'silent': 833, 'woo': 834, 'hello': 835, 'underneath': 836, 'feed': 837, 'warn': 838, 'iba': 839, 'block': 840, 'paper': 841, 'beg': 842, 'piec': 843, 'nine': 844, 'wo': 845, 'ko': 846, 'sucker': 847, 'crush': 848, 'sang': 849, 'spent': 850, 'count': 851, 'instead': 852, 'forgiv': 853, 'sens': 854, 'bite': 855, 'deni': 856, 'realiz': 857, 'doubl': 858, 'toe': 859, 'fake': 860, 'fit': 861, 'state': 862, 'faster': 863, 'return': 864, 'diseas': 865, 'squeez': 866, 'poor': 867, 'lit': 868, 'meat': 869, 'dope': 870, 'climb': 871, 'core': 872, 'wolf': 873, 'bare': 874, 'lick': 875, 'fish': 876, 'ship': 877, 'worn': 878, 'tide': 879, 'relax': 880, 'knee': 881, 'brought': 882, 'excit': 883, 'acid': 884, 'west': 885, 'ill': 886, 'co': 887, 'hoe': 888, 'mack': 889, 'carol': 890, 'drug': 891, 'pa': 892, 'religion': 893, 'bobbi': 894, 'flash': 895, 'stranger': 896, 'slowli': 897, 'stuff': 898, 'fate': 899, 'loos': 900, 'post': 901, 'dirt': 902, 'river': 903, 'teach': 904, 'law': 905, 'hay': 906, 'spit': 907, 'darl': 908, 'luck': 909, 'dick': 910, 'shut': 911, 'drake': 912, 'switch': 913, 'direct': 914, 'system': 915, 'moonlight': 916, 'penni': 917, 'serv': 918, 'quiet': 919, 'v': 920, 'whenev': 921, 'mal': 922, 'although': 923, 'earli': 924, 'bought': 925, 'shower': 926, 'bundl': 927, 'least': 928, 'type': 929, 'miracl': 930, 'golden': 931, 'underground': 932, 'bark': 933, 'secret': 934, '7am': 935, 'liber': 936, 'overboard': 937, 'mile': 938, 'fact': 939, 'emot': 940, 'dig': 941, 'forti': 942, 'drove': 943, 'hasta': 944, 'soy': 945, 'reflect': 946, 'bay': 947, 'laid': 948, 'store': 949, 'threw': 950, 'chain': 951, 'aw': 952, 'b': 953, 'anger': 954, 'forc': 955, 'innoc': 956, 'wors': 957, 'polic': 958, 'rare': 959, 'shi': 960, 'twenti': 961, 'press': 962, 'except': 963, 'fault': 964, 'eas': 965, 'sip': 966, 'p': 967, 'buri': 968, 'stress': 969, 'prove': 970, 'deck': 971, 'soft': 972, 'takin': 973, 'eh': 974, 'gift': 975, 'link': 976, 'maze': 977, 'flesh': 978, 'attent': 979, 'dollar': 980, 'race': 981, 'vice': 982, 'shoulder': 983, 'hurri': 984, 'numb': 985, 'jade': 986, 'firm': 987, 'hoodi': 988, 'chip': 989, 'oblivion': 990, 'dolor': 991, 'steamboat': 992, 'birth': 993, 'quarter': 994, 'record': 995, 'dice': 996, 'expect': 997, 'sober': 998, 'heavi': 999, 'master': 1000, 'clown': 1001, 'ni': 1002, 'easier': 1003, 'distanc': 1004, 'travel': 1005, 'folk': 1006, 'bigger': 1007, 'guard': 1008, 'brown': 1009, 'disappear': 1010, 'afternoon': 1011, 'glow': 1012, 'ball': 1013, 'placer': 1014, 'bien': 1015, 'cigarett': 1016, 'tabl': 1017, 'per': 1018, 'mysteri': 1019, 'ow': 1020, 'rough': 1021, 'bitter': 1022, 'button': 1023, 'addict': 1024, 'chase': 1025, 'sat': 1026, 'thorn': 1027, 'youth': 1028, 'jack': 1029, 'laughter': 1030, 'stolen': 1031, 'evil': 1032, 'present': 1033, 'season': 1034, 'bomb': 1035, 'channel': 1036, 'cap': 1037, 'forth': 1038, 'flip': 1039, 'tough': 1040, 'nowaday': 1041, 'starri': 1042, 'zombi': 1043, 'inspector': 1044, 'outliv': 1045, 'higher': 1046, 'strength': 1047, 'truck': 1048, 'clock': 1049, 'suit': 1050, 'key': 1051, 'forgot': 1052, 'cast': 1053, 'load': 1054, 'nose': 1055, 'imagin': 1056, 'asleep': 1057, 'etern': 1058, 'connect': 1059, 'possibl': 1060, 'merci': 1061, 'greed': 1062, 'east': 1063, 'price': 1064, 'steel': 1065, 'test': 1066, 'mix': 1067, 'freez': 1068, 'beer': 1069, 'written': 1070, 'trip': 1071, 'pit': 1072, 'spark': 1073, 'rapper': 1074, 'tea': 1075, 'unless': 1076, 'bill': 1077, 'poi': 1078, 'steam': 1079, 'hunt': 1080, 'aim': 1081, 'rich': 1082, 'hundr': 1083, 'toxic': 1084, 'roof': 1085, 'frozen': 1086, 'silli': 1087, 'tune': 1088, 'scratch': 1089, 'york': 1090, 'machin': 1091, 'grave': 1092, 'bound': 1093, 'spirit': 1094, 'hallelujah': 1095, 'sog': 1096, 'accept': 1097, 'jail': 1098, 'swim': 1099, 'vale': 1100, 'bother': 1101, 'background': 1102, 'alma': 1103, 'sol': 1104, 'dad': 1105, 'heal': 1106, 'ka': 1107, 'ghetto': 1108, 'raptur': 1109, 'zoo': 1110, 'bo': 1111, 'sunris': 1112, 'guid': 1113, 'finger': 1114, 'helper': 1115, 'industri': 1116, 'anywher': 1117, 'grew': 1118, 'gain': 1119, 'foot': 1120, 'rub': 1121, 'screw': 1122, 'do': 1123, 'score': 1124, 'confus': 1125, 'demon': 1126, 'cup': 1127, 'shirt': 1128, 'x8': 1129, 'fuse': 1130, 'regret': 1131, 'surviv': 1132, 'breed': 1133, 'hum': 1134, 'han': 1135, 'draw': 1136, 'form': 1137, 'grown': 1138, 'troubl': 1139, 'sweat': 1140, 'batter': 1141, 'crowd': 1142, 'island': 1143, '8': 1144, 'finish': 1145, 'club': 1146, 'distant': 1147, 'preciou': 1148, 'breez': 1149, 'boot': 1150, 'swallow': 1151, 'altar': 1152, 'forgotten': 1153, '5': 1154, 'throat': 1155, 'savag': 1156, 'bloodi': 1157, 'instrument': 1158, 'bi': 1159, 'bell': 1160, 'drown': 1161, 'presenc': 1162, 'courag': 1163, 'mission': 1164, 'ana': 1165, 'knife': 1166, 'dude': 1167, 'murder': 1168, 'box': 1169, 'mous': 1170, 'fantasi': 1171, 'pleasur': 1172, 'join': 1173, 'mask': 1174, 'sack': 1175, 'mistleto': 1176, 'appreci': 1177, 'awhil': 1178, 'pair': 1179, 'view': 1180, 'x': 1181, 'media': 1182, 'fresh': 1183, 'naa': 1184, 'slide': 1185, 'bow': 1186, 'cat': 1187, 'prize': 1188, 'ultra': 1189, 'ash': 1190, 'debt': 1191, 'sock': 1192, 'fantast': 1193, 'caress': 1194, 'hurrican': 1195, 'doctor': 1196, 'thrill': 1197, 'band': 1198, 'gentl': 1199, 'also': 1200, 'bang': 1201, 'raw': 1202, 'blast': 1203, 'wonderland': 1204, 'grand': 1205, 'amaz': 1206, 'wood': 1207, 'tini': 1208, 'slime': 1209, 'tape': 1210, 'afford': 1211, 'histori': 1212, 'worst': 1213, 'patient': 1214, 'hunger': 1215, 'path': 1216, 'wound': 1217, 'beneath': 1218, 'split': 1219, 'wick': 1220, 'trap': 1221, 'tale': 1222, 'thrown': 1223, 'cute': 1224, 'vision': 1225, 'shadow': 1226, 'silver': 1227, 'spoken': 1228, 'frown': 1229, 'fair': 1230, 'joke': 1231, 'compani': 1232, 'rat': 1233, 'choos': 1234, 'wreck': 1235, 'despair': 1236, 'pussi': 1237, 'x3': 1238, 'satisfi': 1239, 'either': 1240, 'gear': 1241, 'jam': 1242, 'salvat': 1243, 'palm': 1244, 'oil': 1245, 'va': 1246, 'hero': 1247, 'week': 1248, 'dip': 1249, 'flew': 1250, 'ist': 1251, 'creatur': 1252, 'grip': 1253, 'nasti': 1254, 'screen': 1255, 'den': 1256, 'deceiv': 1257, 'problem': 1258, 'familiar': 1259, 'chair': 1260, 'pathet': 1261, 'prison': 1262, 'pine': 1263, 'hi': 1264, 'drift': 1265, 'spoke': 1266, 'abus': 1267, 'ta': 1268, 'stab': 1269, 'saber': 1270, 'heavenli': 1271, 'powder': 1272, 'incorpor': 1273, 'approach': 1274, 'whose': 1275, 'bathroom': 1276, 'dumb': 1277, 'older': 1278, 'journey': 1279, 'crib': 1280, 'jaw': 1281, 'bam': 1282, 'handl': 1283, 'doorway': 1284, 'mano': 1285, 'amar': 1286, 'ala': 1287, 'nake': 1288, 'unknown': 1289, 'interlud': 1290, 'dare': 1291, 'harm': 1292, 'suffer': 1293, 'meal': 1294, 'trace': 1295, 'sneak': 1296, 'chest': 1297, 'speaker': 1298, 'singer': 1299, 'strike': 1300, 'recal': 1301, 'era': 1302, 'knock': 1303, 'stage': 1304, 'wise': 1305, 'sexi': 1306, 'loco': 1307, 'ad': 1308, 'bene': 1309, 'ach': 1310, 'porch': 1311, 'dodo': 1312, 'drum': 1313, 'plenti': 1314, 'album': 1315, 'dizzi': 1316, 'sex': 1317, 'news': 1318, 'spill': 1319, 'soak': 1320, 'apolog': 1321, 'taught': 1322, 'calm': 1323, 'melt': 1324, 'helpless': 1325, 'battl': 1326, 'princ': 1327, 'divid': 1328, 'motor': 1329, 'complet': 1330, 'sleepless': 1331, 'sooth': 1332, 'shop': 1333, 'grab': 1334, 'coupl': 1335, 'fail': 1336, 'clip': 1337, 'cours': 1338, 'rip': 1339, 'stole': 1340, 'hush': 1341, 'lesson': 1342, 'asid': 1343, 'onto': 1344, 'mister': 1345, 'nickl': 1346, 'er': 1347, 'trashi': 1348, 'lento': 1349, 'eight': 1350, 'major': 1351, 'lucki': 1352, 'grandma': 1353, 'boo': 1354, 'offer': 1355, 'nail': 1356, 'sai': 1357, 'disagre': 1358, 'quicksand': 1359, 'undon': 1360, 'judg': 1361, 'confid': 1362, 'garbag': 1363, 'discoveri': 1364, 'hast': 1365, 'acquaint': 1366, 'lightn': 1367, 'prais': 1368, 'savior': 1369, 'ear': 1370, 'yearn': 1371, 'tap': 1372, 'idea': 1373, 'inch': 1374, 'admit': 1375, 'deserv': 1376, 'date': 1377, 'tip': 1378, 'bat': 1379, 'trigger': 1380, 'pistol': 1381, 'glide': 1382, 'birthday': 1383, 'weekend': 1384, 'awar': 1385, 'seventeen': 1386, 'advic': 1387, 'strut': 1388, 'cotton': 1389, 'sunset': 1390, 'crown': 1391, 'cloud': 1392, 'weep': 1393, 'hotel': 1394, 'madhous': 1395, 'bear': 1396, 'chicken': 1397, 'scar': 1398, 'ran': 1399, 'tumbl': 1400, 'prayer': 1401, 'gate': 1402, 'rate': 1403, 'plate': 1404, 'pot': 1405, 'bob': 1406, 'coke': 1407, 'rope': 1408, 'enemi': 1409, 'rule': 1410, '6': 1411, 'neck': 1412, 'coffe': 1413, 'liquor': 1414, 'diamond': 1415, 'simpli': 1416, 'struggl': 1417, 'size': 1418, 'settl': 1419, 'po': 1420, 'shock': 1421, 'complain': 1422, 'coast': 1423, 'among': 1424, 'receiv': 1425, 'scheme': 1426, 'destini': 1427, 'slept': 1428, 'thin': 1429, 'team': 1430, 'anybodi': 1431, 'torn': 1432, 'park': 1433, 'violenc': 1434, 'hat': 1435, 'mop': 1436, 'duck': 1437, 'poppin': 1438, 'respect': 1439, 'tragic': 1440, 'choke': 1441, 'grey': 1442, 'justic': 1443, 'ticket': 1444, 'hall': 1445, 'order': 1446, 'microphon': 1447, 'dee': 1448, 'wont': 1449, 'fame': 1450, 'boss': 1451, 'yard': 1452, 'bore': 1453, 'cost': 1454, 'amber': 1455, 'safeti': 1456, 'tightli': 1457, 'sword': 1458, 'circu': 1459, 'imag': 1460, 'fi': 1461, 'joe': 1462, 'shall': 1463, 'flower': 1464, 'automat': 1465, 'seek': 1466, 'fore': 1467, 'attack': 1468, 'card': 1469, '20': 1470, 'disguis': 1471, 'creep': 1472, 'neath': 1473, 'thief': 1474, 'hardli': 1475, '7': 1476, 'haze': 1477, 'cow': 1478, 'coca': 1479, 'fuss': 1480, 'click': 1481, 'gather': 1482, 'brick': 1483, 'fu': 1484, 'jane': 1485, 'younger': 1486, 'infect': 1487, 'wander': 1488, 'bounc': 1489, 'dub': 1490, 'rhythm': 1491, 'grass': 1492, 'vet': 1493, 'asham': 1494, 'happiest': 1495, 'alimoni': 1496, 'mommi': 1497, 'pare': 1498, 'bag': 1499, 'joint': 1500, 'snort': 1501, 'tonk': 1502, 'fatter': 1503, 'battleship': 1504, 'st': 1505, 'prehistor': 1506, 'phase': 1507, 'allig': 1508, 'nearbi': 1509, 'virgin': 1510, 'uncl': 1511, 'twelv': 1512, 'betray': 1513, 'led': 1514, 'toss': 1515, 'flat': 1516, 'princess': 1517, 'suck': 1518, 'certain': 1519, 'wed': 1520, 'drain': 1521, 'hammer': 1522, 'describ': 1523, 'sorrow': 1524, 'gray': 1525, 'nearli': 1526, 'languag': 1527, 'sleev': 1528, 'hotter': 1529, 'crystal': 1530, 'speed': 1531, 'burst': 1532, 'beacon': 1533, 'fever': 1534, 'creat': 1535, 'thug': 1536, 'ton': 1537, 'role': 1538, 'moral': 1539, 'kingdom': 1540, 'dire': 1541, 'sting': 1542, 'wealth': 1543, 'victim': 1544, 'ceil': 1545, 'w': 1546, 'telephon': 1547, 'pressur': 1548, 'ant': 1549, 'thick': 1550, 'target': 1551, 'wore': 1552, 'discov': 1553, 'plain': 1554, 'zoom': 1555, 'ancora': 1556, 'ai': 1557, 'echo': 1558, 'larg': 1559, 'whine': 1560, 'ugli': 1561, 'pool': 1562, 'cruel': 1563, 'millionair': 1564, 'lake': 1565, 'grain': 1566, 'cheer': 1567, 'balanc': 1568, 'feat': 1569, 'booth': 1570, 'clue': 1571, 'church': 1572, 'dinner': 1573, 'disast': 1574, 'breakfast': 1575, 'tick': 1576, 'glanc': 1577, 'express': 1578, 'lip': 1579, 'par': 1580, 'ell': 1581, 'usual': 1582, 'stump': 1583, 'hospit': 1584, 'mare': 1585, 'member': 1586, 'sharp': 1587, 'ray': 1588, 'nation': 1589, 'tup': 1590, 'bu': 1591, 'lane': 1592, 'shatter': 1593, 'mac': 1594, 'grind': 1595, 'chick': 1596, 'owe': 1597, 'closet': 1598, 'food': 1599, 'valley': 1600, 'pile': 1601, '0': 1602, 'billi': 1603, 'noon': 1604, 'boulevard': 1605, 'chao': 1606, 'hysteria': 1607, 'north': 1608, 'gat': 1609, 'seat': 1610, 'cook': 1611, '40': 1612, 'mall': 1613, 'llama': 1614, 'account': 1615, 'papa': 1616, 'blank': 1617, 'jealousi': 1618, 'host': 1619, 'ling': 1620, 'cube': 1621, 'chuck': 1622, 'gang': 1623, 'lipstick': 1624, 'wir': 1625, 'plant': 1626, 'jewelri': 1627, 'sli': 1628, 'brush': 1629, 'pinch': 1630, 'sir': 1631, 'ghost': 1632, 'bump': 1633, 'bee': 1634, 'liter': 1635, 'tua': 1636, 'vino': 1637, 'orang': 1638, 'lack': 1639, 'mend': 1640, 'interview': 1641, 'batteri': 1642, 'zipper': 1643, 'react': 1644, 'envi': 1645, 'biggest': 1646, 'neighborhood': 1647, 'distort': 1648, 'basic': 1649, 'highest': 1650, 'copacet': 1651, 'destroy': 1652, 'blah': 1653, 'mollusk': 1654, 'willi': 1655, 'rosemari': 1656, 'certainli': 1657, 'contest': 1658, 'parthenogenesi': 1659, 'muscl': 1660, 'weari': 1661, 'german': 1662, 'inde': 1663, '1959': 1664, 'trembl': 1665, 'mate': 1666, 'needl': 1667, 'movi': 1668, 'serious': 1669, 'surrend': 1670, 'marc': 1671, 'candi': 1672, 'mental': 1673, 'whoever': 1674, 'melodi': 1675, 'pump': 1676, 'restrain': 1677, 'jingl': 1678, 'pumpkin': 1679, 'leather': 1680, 'begun': 1681, 'circl': 1682, 'buzz': 1683, 'moan': 1684, 'smart': 1685, 'page': 1686, 'rose': 1687, 'rode': 1688, 'famou': 1689, 'tore': 1690, 'wipe': 1691, 'defin': 1692, 'blaze': 1693, 'celebr': 1694, 'killer': 1695, 'refus': 1696, 'curs': 1697, 'useless': 1698, 'inspir': 1699, 'often': 1700, 'display': 1701, 'favor': 1702, 'junk': 1703, 'constant': 1704, 'chosen': 1705, 'mention': 1706, 'month': 1707, 'bikini': 1708, 'freaki': 1709, 'mill': 1710, 'desir': 1711, 'condemn': 1712, 'concret': 1713, 'autumn': 1714, 'forest': 1715, 'howl': 1716, 'cream': 1717, 'main': 1718, 'fed': 1719, 'player': 1720, 'shore': 1721, 'sixteen': 1722, 'stretch': 1723, 'peak': 1724, 'sunni': 1725, 'toni': 1726, 'vacat': 1727, 'bruis': 1728, 'flood': 1729, 'loneli': 1730, 'shade': 1731, 'cowboy': 1732, 'loot': 1733, 'lee': 1734, 'flight': 1735, 'drank': 1736, 'roller': 1737, 'tunnel': 1738, 'yell': 1739, 'will': 1740, 'whiskey': 1741, 'dive': 1742, 'dial': 1743, 'logic': 1744, 'waist': 1745, 'hidden': 1746, 'fortun': 1747, 'devot': 1748, 'govern': 1749, 'reina': 1750, 'charm': 1751, 'terror': 1752, 'neon': 1753, 'tout': 1754, 'dit': 1755, 'ought': 1756, 'partner': 1757, 'volum': 1758, 'affect': 1759, 'shift': 1760, 'rot': 1761, '4x': 1762, 'curtain': 1763, 'warmer': 1764, 'friendli': 1765, 'milo': 1766, 'mid': 1767, 'exit': 1768, 'foreign': 1769, 'majest': 1770, 'trunk': 1771, 'f': 1772, 'garden': 1773, 'string': 1774, 'colleg': 1775, 'seriou': 1776, 'ignor': 1777, 'captain': 1778, 'complic': 1779, 'interest': 1780, 'lunch': 1781, 'peel': 1782, 'china': 1783, 'shallow': 1784, 'strap': 1785, 'daylight': 1786, 'bunker': 1787, 'stroll': 1788, 'relat': 1789, 'weight': 1790, 'fin': 1791, 'perfum': 1792, 'toy': 1793, 'outlaw': 1794, 'mutual': 1795, 'nervou': 1796, 'film': 1797, 'surround': 1798, 'blanco': 1799, 'stack': 1800, 'kung': 1801, 'dim': 1802, 'origin': 1803, 'fiend': 1804, 'jerk': 1805, 'shape': 1806, 'wherev': 1807, 'chico': 1808, 'tin': 1809, 'ide': 1810, 'prepar': 1811, '45': 1812, 'nois': 1813, 'prop': 1814, 'downtown': 1815, 'strain': 1816, 'loss': 1817, 'wing': 1818, 'romper': 1819, 'warmth': 1820, 'carpent': 1821, 'dome': 1822, 'saint': 1823, 'eu': 1824, 'sen': 1825, '911': 1826, 'embrac': 1827, 'bewar': 1828, 'sooner': 1829, 'insight': 1830, 'runway': 1831, 'pout': 1832, 'pure': 1833, 'piano': 1834, 'choir': 1835, 'pavement': 1836, 'sho': 1837, 'shaggi': 1838, 'hillbilli': 1839, 'cake': 1840, 'sort': 1841, 'desert': 1842, 'plastic': 1843, 'class': 1844, 'thi': 1845, 'decad': 1846, 'attempt': 1847, 'scarfac': 1848, 'leagu': 1849, 'purpl': 1850, 'infam': 1851, 'altogeth': 1852, 'candl': 1853, 'swamp': 1854, 'anthem': 1855, 'blink': 1856, 'pill': 1857, 'medicin': 1858, 'crumbl': 1859, 'colder': 1860, 'pitch': 1861, 'incred': 1862, 'sole': 1863, 'nuclear': 1864, 'foul': 1865, 'sentenc': 1866, 'actin': 1867, 'forward': 1868, 'toast': 1869, 'whistl': 1870, 'suddenli': 1871, 'anonym': 1872, 'volar': 1873, 'ave': 1874, 'enjoy': 1875, 'depress': 1876, 'sake': 1877, '3x': 1878, 'sincer': 1879, 'lawn': 1880, 'thirti': 1881, 'gasolin': 1882, 'lace': 1883, 'daili': 1884, 'contempl': 1885, 'abandon': 1886, 'velvet': 1887, 'harvest': 1888, 'total': 1889, 'filthi': 1890, 'scatter': 1891, 'drama': 1892, 'wack': 1893, 'horror': 1894, 'gaze': 1895, 'pole': 1896, 'rejoic': 1897, 'slap': 1898, 'concern': 1899, 'sympathi': 1900, 'damag': 1901, 'energi': 1902, 'chose': 1903, 'beam': 1904, 'shove': 1905, 'leaf': 1906, 'coat': 1907, 'dang': 1908, 'frighten': 1909, 'pace': 1910, 'peter': 1911, 'kite': 1912, 'effect': 1913, 'prick': 1914, 'carniv': 1915, 'scarlet': 1916, 'breakdown': 1917, 'sporti': 1918, 'presto': 1919, 'due': 1920, 'io': 1921, 'guardo': 1922, 'pan': 1923, 'discord': 1924, 'crook': 1925, 'stream': 1926, 'stroke': 1927, 'southern': 1928, 'rid': 1929, 'obtain': 1930, 'decis': 1931, 'relationship': 1932, 'march': 1933, 'roug': 1934, 'redempt': 1935, 'pedal': 1936, 'wae': 1937, 'artist': 1938, 'posit': 1939, 'depend': 1940, 'confess': 1941, 'trot': 1942, 'retreat': 1943, 'goos': 1944, 'butt': 1945, 'coaster': 1946, 'bull': 1947, 'sue': 1948, 'pillow': 1949, 'abl': 1950, 'agre': 1951, 'rage': 1952, 'cellar': 1953, 'tank': 1954, 'swore': 1955, 'waitress': 1956, 'replac': 1957, 'castl': 1958, 'weigh': 1959, 'recogn': 1960, 'pleasant': 1961, 'reckless': 1962, 'unseen': 1963, 'ba': 1964, 'nou': 1965, 'atmospher': 1966, 'humbl': 1967, 'holler': 1968, 'sour': 1969, 'nitti': 1970, 'za': 1971, 'uphil': 1972, 'parado': 1973, 'salt': 1974, 'unit': 1975, 'demand': 1976, 'soar': 1977, 'thumb': 1978, 'web': 1979, 'tal': 1980, 'grin': 1981, 'solut': 1982, 'foe': 1983, 'add': 1984, 'awok': 1985, 'condit': 1986, 'distract': 1987, 'understood': 1988, 'everlast': 1989, 'studio': 1990, 'bird': 1991, 'incomprehens': 1992, 'base': 1993, 'jeep': 1994, 'truli': 1995, 'excus': 1996, 'notic': 1997, 'jay': 1998, '11': 1999, 'strip': 2000, 'dread': 2001, 'surfac': 2002, 'mummi': 2003, 'gigolo': 2004, 'termin': 2005, 'boat': 2006, 'rang': 2007, 'hyster': 2008, 'sum': 2009, 'fist': 2010, 'greet': 2011, 'holli': 2012, 'pro': 2013, 'amount': 2014, 'shield': 2015, 'possess': 2016, 'digniti': 2017, 'h': 2018, 'pose': 2019, 'thread': 2020, 'trade': 2021, '101': 2022, 'pant': 2023, 'foolish': 2024, 'sigh': 2025, '4th': 2026, 'visto': 2027, 'arrow': 2028, 'thunder': 2029, 'reindeer': 2030, 'enter': 2031, 'blend': 2032, 'bond': 2033, 'manger': 2034, 'board': 2035, 'couch': 2036, 'dich': 2037, 'sie': 2038, 'wird': 2039, 'sew': 2040, 'glisten': 2041, 'drunken': 2042, 'extrem': 2043, 'nearest': 2044, 'medic': 2045, 'twang': 2046, 'anna': 2047, 'exchang': 2048, 'dank': 2049, 'loyal': 2050, 'curli': 2051, 'univers': 2052, 'unto': 2053, 'third': 2054, 'restaur': 2055, 'jazz': 2056, 'pound': 2057, 'dismay': 2058, 'mud': 2059, 'snake': 2060, 'hors': 2061, 'caffein': 2062, 'coz': 2063, 'resist': 2064, 'rainbow': 2065, 'gangster': 2066, 'dancer': 2067, 'mong': 2068, 'jet': 2069, 'exist': 2070, 'fri': 2071, 'fifteen': 2072, 'soup': 2073, 'weav': 2074, 'trash': 2075, 'alcohol': 2076, 'monkey': 2077, 'fifti': 2078, 'similar': 2079, 'regular': 2080, 'bucket': 2081, 'consum': 2082, 'regardless': 2083, 'casket': 2084, 'normal': 2085, 'tempt': 2086, 'puzzl': 2087, 'fought': 2088, 'dean': 2089, 'rod': 2090, 'kang': 2091, 'oper': 2092, 'liberti': 2093, 'whack': 2094, 'guru': 2095, 'dan': 2096, 'q': 2097, 'jungl': 2098, 'cell': 2099, 'naughti': 2100, 'static': 2101, 'structur': 2102, 'agora': 2103, 'whore': 2104, 'holiday': 2105, 'slave': 2106, 'imposs': 2107, 'mass': 2108, 'tag': 2109, 'impuls': 2110, 'mum': 2111, 'mansion': 2112, 'steadi': 2113, 'puff': 2114, 'jolli': 2115, 'quickli': 2116, 'proof': 2117, 'flag': 2118, 'social': 2119, 'hail': 2120, 'farm': 2121, 'annihil': 2122, 'badland': 2123, 'design': 2124, 'profit': 2125, 'photograph': 2126, 'vita': 2127, 'cancer': 2128, 'horni': 2129, 'brass': 2130, 'unlik': 2131, 'debutant': 2132, 'aglow': 2133, 'defeat': 2134, 'sane': 2135, 'banger': 2136, 'evergreen': 2137, 'champion': 2138, 'puppi': 2139, 'intrud': 2140, 'tec': 2141, 'jordan': 2142, 'laud': 2143, 'hindsight': 2144, 'bulletproof': 2145, 'offend': 2146, 'grade': 2147, 'thirsti': 2148, '30': 2149, 'throne': 2150, 'satan': 2151, 'import': 2152, 'sam': 2153, 'betti': 2154, 'softli': 2155, 'meanwhil': 2156, 'piss': 2157, 'potion': 2158, 'actual': 2159, 'situat': 2160, 'union': 2161, 'slick': 2162, 'forbid': 2163, 'lap': 2164, 'lower': 2165, 'june': 2166, 'tommi': 2167, 'basebal': 2168, 'cock': 2169, 'wintri': 2170, 'comfi': 2171, 'feather': 2172, 'halo': 2173, 'rider': 2174, 'blur': 2175, 'bliss': 2176, 'convers': 2177, 'success': 2178, 'phoni': 2179, 'iron': 2180, 'honest': 2181, 'geniu': 2182, 'map': 2183, 'brim': 2184, 'backward': 2185, 'privat': 2186, 'reli': 2187, 'practic': 2188, 'corona': 2189, 'oak': 2190, 'nerv': 2191, 'cradl': 2192, 'tragedi': 2193, 'remov': 2194, 'resolv': 2195, 'notion': 2196, 'villain': 2197, 'row': 2198, 'stunt': 2199, 'dedic': 2200, 'wasteland': 2201, 'hire': 2202, 'intim': 2203, 'manag': 2204, 'experi': 2205, 'classic': 2206, 'invent': 2207, 'cure': 2208, 'potenti': 2209, 'hostag': 2210, 'planet': 2211, 'vine': 2212, 'sera': 2213, 'crank': 2214, 'skunk': 2215, 'clap': 2216, 'cope': 2217, 'bug': 2218, 'plug': 2219, 'maximum': 2220, 'naw': 2221, 'fashion': 2222, 'rubber': 2223, 'stomach': 2224, 'asylum': 2225, 'traffic': 2226, 'note': 2227, 'cabl': 2228, 'whip': 2229, 'crash': 2230, 'dal': 2231, 'tra': 2232, 'insurg': 2233, 'surg': 2234, 'lighter': 2235, 'flown': 2236, 'lion': 2237, 'gotten': 2238, 'heartach': 2239, 'subway': 2240, 'cocain': 2241, 'court': 2242, 'nightmar': 2243, 'metal': 2244, 'nat': 2245, 'cole': 2246, '25': 2247, 'judgment': 2248, 'mem': 2249, 'hallway': 2250, 'easili': 2251, 'conscienc': 2252, 'temptat': 2253, 'angri': 2254, 'onward': 2255, 'ancient': 2256, 'sparrow': 2257, 'poni': 2258, 'nineti': 2259, 'intox': 2260, 'primero': 2261, 'junto': 2262, 'jewel': 2263, 'bedroom': 2264, 'daughter': 2265, 'soldier': 2266, 'fluid': 2267, 'lyric': 2268, 'basket': 2269, 'infatu': 2270, 'whether': 2271, 'outlet': 2272, 'mourn': 2273, 'trail': 2274, 'shell': 2275, 'station': 2276, 'panama': 2277, 'session': 2278, 'reveng': 2279, 'disdain': 2280, 'viva': 2281, 'alarm': 2282, 'latest': 2283, 'lonesom': 2284, 'compos': 2285, 'gage': 2286, 'sheer': 2287, 'rumbl': 2288, 'trebl': 2289, 'clearli': 2290, 'dine': 2291, 'col': 2292, 'checkmat': 2293, 'vile': 2294, 'bloom': 2295, 'defend': 2296, 'aura': 2297, 'vain': 2298, 'fairi': 2299, 'ideolog': 2300, 'prevail': 2301, 'hatr': 2302, 'earn': 2303, 'nan': 2304, 'wa': 2305, 'nag': 2306, 'jab': 2307, 'suffic': 2308, 'constantli': 2309, 'pon': 2310, 'cliff': 2311, 'canyon': 2312, 'upsid': 2313, 'horn': 2314, 'veteran': 2315, 'sacrific': 2316, 'bald': 2317, 'unafraid': 2318, 'unkind': 2319, 'claim': 2320, 'career': 2321, 'leak': 2322, 'sheet': 2323, 'rah': 2324, 'marijuana': 2325, 'exhal': 2326, 'unavail': 2327, 'wrist': 2328, 'bread': 2329, 'sale': 2330, 'suitcas': 2331, 'habit': 2332, 'root': 2333, 'glitter': 2334, 'stain': 2335, 'epitaph': 2336, 'match': 2337, 'reap': 2338, 'sow': 2339, 'local': 2340, 'sheriff': 2341, 'tote': 2342, 'pipe': 2343, 'reliev': 2344, 'palac': 2345, 'tripl': 2346, 'madli': 2347, 'x6': 2348, 'skip': 2349, 'flock': 2350, 'slug': 2351, 'contagi': 2352, 'appli': 2353, 'gut': 2354, 'sold': 2355, 'lend': 2356, 'frustrat': 2357, 'product': 2358, 'engin': 2359, 'roadsid': 2360, 'succeed': 2361, 'achiev': 2362, 'satisfact': 2363, 'tone': 2364, 'sprite': 2365, 'snap': 2366, 'blunt': 2367, 'bank': 2368, 'zero': 2369, 'spike': 2370, 'rail': 2371, 'delay': 2372, 'leap': 2373, 'halfway': 2374, 'teas': 2375, 'tortur': 2376, 'smooth': 2377, 'arriv': 2378, 'toi': 2379, 'ce': 2380, 'brave': 2381, 'area': 2382, 'imit': 2383, 'compromis': 2384, 'matt': 2385, 'central': 2386, 'wax': 2387, 'spare': 2388, 'sind': 2389, 'dew': 2390, 'idiot': 2391, 'piti': 2392, 'bide': 2393, 'plea': 2394, 'shadi': 2395, 'charg': 2396, 'camel': 2397, 'sport': 2398, 'chin': 2399, 'occasion': 2400, 'armi': 2401, 'neg': 2402, 'vent': 2403, 'slang': 2404, 'flossi': 2405, 'minc': 2406, 'drummer': 2407, 'fan': 2408, 'fox': 2409, 'mere': 2410, 'alo': 2411, 'phantom': 2412, 'rob': 2413, 'stormi': 2414, 'fright': 2415, 'illus': 2416, 'rattl': 2417, 'fifth': 2418, 'techniqu': 2419, 'clearer': 2420, 'continu': 2421, 'knot': 2422, 'void': 2423, 'riverbank': 2424, 'clever': 2425, 'introduc': 2426, 'roulett': 2427, '90': 2428, 'mushroom': 2429, 'smack': 2430, 'protect': 2431, 'cruis': 2432, 'chi': 2433, 'underwat': 2434, 'heartbreak': 2435, 'miser': 2436, 'plateau': 2437, 'statu': 2438, 'mold': 2439, 'code': 2440, 'poss': 2441, 'peek': 2442, 'blanket': 2443, 'sur': 2444, 'tum': 2445, 'appl': 2446, 'snatch': 2447, 'eventu': 2448, 'squar': 2449, 'hesit': 2450, 'affair': 2451, 'mail': 2452, 'plagu': 2453, 'coach': 2454, 'sailor': 2455, 'deuc': 2456, 'ester': 2457, 'x15': 2458, 'polo': 2459, 'bastard': 2460, 'shelf': 2461, 'marconi': 2462, 'mamba': 2463, 'bumper': 2464, 'midst': 2465, 'capitalist': 2466, 'democraci': 2467, 'shiver': 2468, 'pale': 2469, 'snare': 2470, 'whirl': 2471, 'spoil': 2472, 'rape': 2473, 'basement': 2474, 'brink': 2475, 'slightli': 2476, '51st': 2477, 'nighttim': 2478, 'flora': 2479, 'fort': 2480, 'billion': 2481, 'barrel': 2482, 'jubile': 2483, 'faint': 2484, 'cherish': 2485, 'sympathet': 2486, 'rampant': 2487, 'distrust': 2488, 'disgrac': 2489, 'kitchen': 2490, 'vive': 2491, 'dove': 2492, 'averag': 2493, 'sabe': 2494, 'alto': 2495, '18': 2496, 'dum': 2497, 'spotlight': 2498, 'soda': 2499, 'joker': 2500, 'undress': 2501, 'despit': 2502, 'dusti': 2503, 'olden': 2504, 'yore': 2505, 'allow': 2506, 'disturb': 2507, 'seal': 2508, 'homicid': 2509, 'coup': 2510, 'foxi': 2511, 'ounc': 2512, 'model': 2513, 'jag': 2514, 'hardwood': 2515, 'dealt': 2516, 'insecur': 2517, 'reject': 2518, 'potato': 2519, 'smash': 2520, 'catena': 2521, 'dint': 2522, 'pi': 2523, 'sung': 2524, 'impress': 2525, 'litig': 2526, 'fraud': 2527, 'ur': 2528, 'templ': 2529, 'deviou': 2530, 'glamor': 2531, 'mischiev': 2532, 'capit': 2533, 'critic': 2534, 'atom': 2535, 'reaction': 2536, 'uncross': 2537, 'slight': 2538, 'tickl': 2539, 'orient': 2540, 'degre': 2541, 'dot': 2542, 'physic': 2543, 'repent': 2544, 'skinni': 2545, 'illumin': 2546, 'fie': 2547, 'fum': 2548, 'evid': 2549, 'definit': 2550, 'hora': 2551, 'bait': 2552, 'stella': 2553, 'twinkl': 2554, 'boost': 2555, 'kitti': 2556, 'swag': 2557, 'eras': 2558, 'sleepwalk': 2559, 'depth': 2560, 'yee': 2561, 'ideal': 2562, 'chivalri': 2563, 'sancho': 2564, 'southeast': 2565, 'stupidli': 2566, 'secretli': 2567, 'ultimo': 2568, 'rodeo': 2569, 'barefoot': 2570, 'commerci': 2571, 'complac': 2572, 'vacanc': 2573, 'westward': 2574, 'polit': 2575, 'jeff': 2576, 'shown': 2577, 'creation': 2578, 'deliver': 2579, 'righteous': 2580, 'risen': 2581, '59': 2582, 'strongli': 2583, 'counter': 2584, 'cabinet': 2585, 'jimmi': 2586, 'wink': 2587, 'photographi': 2588, 'swept': 2589, 'sworn': 2590, 'embarrass': 2591, 'sever': 2592, 'bride': 2593, 'chocol': 2594, 'ruler': 2595, 'cooler': 2596, 'panti': 2597, 'booti': 2598, 'gener': 2599, 'funer': 2600, 'flavor': 2601, 'nickel': 2602, 'scandal': 2603, 'dar': 2604, 'tingl': 2605, 'fairyland': 2606, 'rosi': 2607, 'cozi': 2608, 'fireplac': 2609, 'primavera': 2610, 'pleaser': 2611, 'recent': 2612, 'shini': 2613, 'bizarr': 2614, 'riversid': 2615, 'dixi': 2616, 'fold': 2617, 'tippi': 2618, 'sadli': 2619, 'ironi': 2620, 'unstopp': 2621, 'scarciti': 2622, 'inherit': 2623, 'cent': 2624, 'branch': 2625, 'silki': 2626, 'baggag': 2627, 'isol': 2628, 'acquir': 2629, 'barney': 2630, 'clack': 2631, 'pardon': 2632, 'wilder': 2633, 'sidewalk': 2634, 'mount': 2635, 'reminisc': 2636, 'henni': 2637, 'cop': 2638, 'pawn': 2639, 'sweetheart': 2640, 'sneez': 2641, 'crucifi': 2642, 'panic': 2643, 'disgust': 2644, 'injur': 2645, 'cough': 2646, 'speech': 2647, 'protest': 2648, 'deaf': 2649, 'treasur': 2650, 'sec': 2651, 'cheek': 2652, 'dado': 2653, 'culpa': 2654, 'sank': 2655, 'poet': 2656, 'market': 2657, 'rapid': 2658, 'yer': 2659, 'closur': 2660, 'obsess': 2661, 'bing': 2662, 'noos': 2663, 'limp': 2664, 'carpet': 2665, 'misfit': 2666, 'prophet': 2667, 'tens': 2668, 'overtim': 2669, 'wright': 2670, 'video': 2671, 'lavend': 2672, 'tempo': 2673, 'aria': 2674, 'giro': 2675, 'current': 2676, 'ordinari': 2677, 'poorli': 2678, 'strand': 2679, 'farther': 2680, 'stalk': 2681, 'scent': 2682, 'beaten': 2683, 'eve': 2684, 'commun': 2685, 'overcom': 2686, 'fatal': 2687, 'tasti': 2688, 'vomit': 2689, 'jerri': 2690, 'level': 2691, 'scienc': 2692, 'bid': 2693, 'cliqu': 2694, 'steven': 2695, 'consequ': 2696, 'collar': 2697, 'starch': 2698, 'paradox': 2699, 'flung': 2700, 'childhood': 2701, 'longitud': 2702, 'behalf': 2703, 'attract': 2704, 'rocket': 2705, 'billboard': 2706, '19': 2707, '42': 2708, '1962': 2709, '94': 2710, 'sentiment': 2711, 'societi': 2712, 'vehicl': 2713, 'provid': 2714, 'subject': 2715, 'magnet': 2716, 'dwell': 2717, 'cuesta': 2718, 'ake': 2719, 'bluff': 2720, 'behold': 2721, 'furi': 2722, 'convict': 2723, 'cord': 2724, 'sixti': 2725, 'mil': 2726, 'juici': 2727, 'formal': 2728, 'dash': 2729, 'produc': 2730, 'group': 2731, 'glue': 2732, 'thirteen': 2733, 'absolut': 2734, 'fighter': 2735, 'writer': 2736, 'pig': 2737, 'explod': 2738, 'remors': 2739, 'elbow': 2740, 'assassin': 2741, 'fag': 2742, 'fascin': 2743, 'sheep': 2744, 'riski': 2745, 'silhouett': 2746, 'canal': 2747, 'summon': 2748, 'caller': 2749, 'culmin': 2750, 'tic': 2751, 'disloc': 2752, 'abound': 2753, 'hypnot': 2754, 'tranc': 2755, 'sacr': 2756, 'hopeless': 2757, 'obviou': 2758, 'coul': 2759, 'tine': 2760, 'tit': 2761, 'fut': 2762, 'sauv': 2763, 'fen': 2764, 'chanson': 2765, 'petit': 2766, 'baron': 2767, 'stopper': 2768, 'plaid': 2769, 'gritti': 2770, 'maestro': 2771, 'interrupt': 2772, 'comb': 2773, 'drawn': 2774, 'unlock': 2775, 'forbidden': 2776, 'dev': 2777, 'quest': 2778, 'plane': 2779, 'net': 2780, 'lamb': 2781, 'yellow': 2782, 'chapel': 2783, 'healthi': 2784, 'brigad': 2785, 'manic': 2786, 'diesel': 2787, 'rust': 2788, 'pollut': 2789, 'manifest': 2790, 'divin': 2791, 'persuas': 2792, 'manipul': 2793, 'smoother': 2794, 'suffoc': 2795, 'mindless': 2796, 'pantomim': 2797, 'bold': 2798, 'desol': 2799, 'illeg': 2800, 'buck': 2801, 'tame': 2802, 'studi': 2803, 'calcul': 2804, 'belittl': 2805, 'ici': 2806, 'occupi': 2807, 'diplomat': 2808, 'topper': 2809, 'eagl': 2810, 'deliv': 2811, 'thoroughbr': 2812, 'desk': 2813, 'eighti': 2814, '96': 2815, 'liver': 2816, 'pina': 2817, 'roar': 2818, 'mir': 2819, 'bluebird': 2820, 'meadow': 2821, 'parson': 2822, 'conspir': 2823, 'quiver': 2824, 'despis': 2825, 'crap': 2826, 'chopper': 2827, 'trey': 2828, 'hawk': 2829, 'carter': 2830, 'nap': 2831, 'holla': 2832, 'snack': 2833, 'broad': 2834, 'version': 2835, 'tattoo': 2836, 'powerless': 2837, 'undermin': 2838, 'bargain': 2839, 'supermarket': 2840, 'twin': 2841, 'polar': 2842, 'supper': 2843, 'spaceship': 2844, 'hover': 2845, 'villag': 2846, 'disadvantag': 2847, 'magazin': 2848, 'anim': 2849, 'dragon': 2850, 'profound': 2851, 'paranoia': 2852, 'hung': 2853, 'hustl': 2854, 'gambl': 2855, 'condescend': 2856, 'stray': 2857, 'servic': 2858, 'giant': 2859, 'bud': 2860, 'otherwis': 2861, 'stumbl': 2862, 'saniti': 2863, 'trial': 2864, 'laundri': 2865, 'rocki': 2866, 'cocki': 2867, 'heel': 2868, 'cam': 2869, 'naiv': 2870, 'desper': 2871, 'spider': 2872, 'blimp': 2873, 'effervesc': 2874, 'delici': 2875, 'talent': 2876, 'salad': 2877, 'weapon': 2878, 'ridg': 2879, 'grove': 2880, 'ink': 2881, 'spree': 2882, 'smaller': 2883, 'mistl': 2884, 'scaremong': 2885, 'scoundrel': 2886, 'doom': 2887, 'hump': 2888, 'tilt': 2889, 'superior': 2890, 'gossip': 2891, 'topic': 2892, 'gravel': 2893, 'pothol': 2894, 'comprehend': 2895, 'dao': 2896, 'justo': 2897, 'pesa': 2898, 'haya': 2899, 'supe': 2900, 'termino': 2901, 'frase': 2902, 'martyr': 2903, 'grandmoth': 2904, 'claro': 2905, 'dreamer': 2906, '1st': 2907, '2nd': 2908, 'photo': 2909, 'trim': 2910, 'compar': 2911, 'woe': 2912, 'crimson': 2913, 'forehead': 2914, 'somewhat': 2915, 'upset': 2916, 'reconsid': 2917, 'goal': 2918, 'vie': 2919, 'parfait': 2920, 'summit': 2921, 'mystic': 2922, 'landscap': 2923, 'eastern': 2924, 'headphon': 2925, 'robin': 2926, '6th': 2927, 'stereo': 2928, 'temptress': 2929, 'clash': 2930, 'brows': 2931, 'impati': 2932, 'pane': 2933, 'rewind': 2934, 'chees': 2935, 'cola': 2936, 'cuss': 2937, 'teen': 2938, 'ward': 2939, 'flashi': 2940, 'sh': 2941, 'senior': 2942, 'tome': 2943, 'wong': 2944, 'deadli': 2945, 'ford': 2946, 'honeysuckl': 2947, 'fourth': 2948, 'autonomi': 2949, 'whichev': 2950, 'prefer': 2951, 'chatter': 2952, 'ding': 2953, 'complex': 2954, 'simplic': 2955, 'acknowledg': 2956, 'frivol': 2957, 'increas': 2958, 'defi': 2959, 'demonstr': 2960, 'discuss': 2961, 'unwind': 2962, 'brawl': 2963, 'lime': 2964, 'rag': 2965, 'nobl': 2966, 'hose': 2967, 'cognac': 2968, 'cement': 2969, 'boggl': 2970, 'northern': 2971, 'shepherd': 2972, 'rep': 2973, 'vocal': 2974, 'grime': 2975, 'dough': 2976, 'tux': 2977, 'vodka': 2978, 'bunni': 2979, 'alamo': 2980, 'campu': 2981, 'gram': 2982, 'collect': 2983, 'fruit': 2984, 'wro': 2985, 'strawberri': 2986, 'uniqu': 2987, 'cloudi': 2988, 'mirag': 2989, 'greas': 2990, 'script': 2991, 'pow': 2992, 'urg': 2993, 'motiv': 2994, 'sliver': 2995, 'lump': 2996, 'sudden': 2997, 'neurot': 2998, 'trouser': 2999, 'ribbon': 3000, 'uncov': 3001, 'wisdom': 3002, 'unspoken': 3003, 'hardi': 3004, 'ako': 3005, 'hah': 3006, 'coda': 3007, 'vote': 3008, 'tension': 3009, 'grill': 3010, 'loser': 3011, '200': 3012, 'tooth': 3013, 'vest': 3014, 'lame': 3015, 'ivori': 3016, 'stairway': 3017, 'piccolo': 3018, 'disc': 3019, 'ca': 3020, 'sierra': 3021, 'secreto': 3022, 'medio': 3023, 'agua': 3024, 'repres': 3025, 'tar': 3026, 'nut': 3027, 'drew': 3028, 'vital': 3029, 'suicid': 3030, 'brew': 3031, 'unhappi': 3032, 'snooz': 3033, 'gloriou': 3034, 'scoop': 3035, 'crimin': 3036, 'swift': 3037, 'data': 3038, 'hourglass': 3039, 'waltz': 3040, 'literatur': 3041, 'cannon': 3042, 'neither': 3043, 'curiou': 3044, 'scan': 3045, 'exact': 3046, 'presid': 3047, 'consid': 3048, 'troop': 3049, 'inform': 3050, '98': 3051, 'creol': 3052, 'homemad': 3053, 'driveway': 3054, 'western': 3055, 'silk': 3056, 'tait': 3057, 'explor': 3058, 'biz': 3059, 'tomb': 3060, 'weird': 3061, 'squeal': 3062, 'gash': 3063, '2003': 3064, 'rever': 3065, 'territori': 3066, 'counti': 3067, 'upstair': 3068, 'reform': 3069, 'aflam': 3070, 'snuck': 3071, 'ame': 3072, 'ecstasi': 3073, 'fenc': 3074, 'rambl': 3075, 'temporarili': 3076, 'corpor': 3077, 'fals': 3078, 'correct': 3079, 'corni': 3080, '93': 3081, 'accord': 3082, 'sizzl': 3083, 'coal': 3084, 'goa': 3085, 'chart': 3086, 'exploit': 3087, 'strung': 3088, 'unrecogn': 3089, 'sleepi': 3090, 'neatli': 3091, 'sunlight': 3092, 'organ': 3093, 'smother': 3094, 'instinct': 3095, 'competit': 3096, 'verg': 3097, 'remot': 3098, 'preacher': 3099, 'cling': 3100, 'genuin': 3101, 'milki': 3102, 'rooti': 3103, 'toot': 3104, 'rummi': 3105, 'toddl': 3106, 'coo': 3107, 'toyland': 3108, 'lark': 3109, 'thirst': 3110, 'caviti': 3111, 'solitari': 3112, 'faraway': 3113, 'avid': 3114, 'habitat': 3115, 'art': 3116, 'rick': 3117, 'label': 3118, 'picnic': 3119, 'robe': 3120, 'endlessli': 3121, 'tristeza': 3122, 'majesti': 3123, 'pearl': 3124, 'theme': 3125, 'revers': 3126, 'intern': 3127, 'accent': 3128, 'obsidian': 3129, 'nope': 3130, 'cutlass': 3131, 'bra': 3132, 'extens': 3133, 'cypress': 3134, 'baggi': 3135, 'scotch': 3136, 'drought': 3137, 'faintli': 3138, 'whomev': 3139, 'chalk': 3140, 'bigot': 3141, 'fountain': 3142, 'thump': 3143, 'linga': 3144, 'molli': 3145, 'frost': 3146, 'text': 3147, 'stomp': 3148, 'crippl': 3149, 'creek': 3150, 'guarante': 3151, 'honeymoon': 3152, 'wari': 3153, 'common': 3154, 'failur': 3155, 'dimens': 3156, 'wrench': 3157, 'psychopath': 3158, 'superman': 3159, 'slimi': 3160, 'elsewher': 3161, 'blister': 3162, 'yuletid': 3163, 'bough': 3164, 'shave': 3165, 'denial': 3166, 'hash': 3167, 'strum': 3168, 'harp': 3169, 'distress': 3170, 'roam': 3171, 'offici': 3172, 'buckl': 3173, 'pouch': 3174, 'rediscov': 3175, 'civil': 3176, 'aris': 3177, 'patienc': 3178, 'encourag': 3179, 'pri': 3180, 'stitch': 3181, 'restless': 3182, 'appeal': 3183, 'nip': 3184, 'canto': 3185, 'upper': 3186, 'romant': 3187, 'schizophren': 3188, 'triniti': 3189, 'section': 3190, 'overflow': 3191, 'fro': 3192, 'turkey': 3193, 'intent': 3194, 'petti': 3195, 'gloss': 3196, 'wagon': 3197, 'popcorn': 3198, 'flaunt': 3199, 'delight': 3200, 'yule': 3201, 'stock': 3202, 'tho': 3203, 'cuddl': 3204, 'blush': 3205, 'verbal': 3206, 'hector': 3207, 'obey': 3208, 'clover': 3209, 'magnum': 3210, 'stagnat': 3211, 'schoolgirl': 3212, 'gemma': 3213, 'succumb': 3214, 'assault': 3215, 'happili': 3216, 'cellular': 3217, '50k': 3218, '17': 3219, 'garag': 3220, 'sexual': 3221, 'popul': 3222, 'accompani': 3223, 'disappoint': 3224, 'toward': 3225, 'homey': 3226, 'fuzzi': 3227, 'vagabond': 3228, 'vacant': 3229, 'phrase': 3230, 'gusto': 3231, 'botella': 3232, 'twitter': 3233, 'aboard': 3234, 'recaptur': 3235, 'haunt': 3236, 'argument': 3237, 'yan': 3238, 'sensit': 3239, 'explan': 3240, 'royalti': 3241, 'wreath': 3242, 'barrio': 3243, 'contra': 3244, 'knight': 3245, 'slam': 3246, 'bap': 3247, 'hut': 3248, 'brunch': 3249, 'rotten': 3250, 'outcast': 3251, 'dover': 3252, 'sampl': 3253, 'radic': 3254, 'agoni': 3255, 'saddl': 3256, 'sleepyhead': 3257, 'beig': 3258, 'chola': 3259, 'spaghetti': 3260, 'underwear': 3261, 'stir': 3262, '24': 3263, 'torment': 3264, 'peep': 3265, 'pete': 3266, 'sway': 3267, 'treason': 3268, 'knelt': 3269, 'offic': 3270, 'freed': 3271, 'parang': 3272, 'elev': 3273, 'mezzanin': 3274, 'absurd': 3275, 'corros': 3276, 'tint': 3277, 'glove': 3278, 'opposit': 3279, 'poetri': 3280, 'benzo': 3281, 'childish': 3282, 'champagn': 3283, 'genuflect': 3284, 'horribl': 3285, 'preach': 3286, 'releas': 3287, 'timbo': 3288, 'field': 3289, 'liabl': 3290, 'bayou': 3291, 'doc': 3292, 'hanna': 3293, 'slice': 3294, 'ra': 3295, 'lei': 3296, 'maria': 3297, 'admir': 3298, 'timber': 3299, 'leaver': 3300, 'odd': 3301, 'inhal': 3302, 'lac': 3303, 'hustler': 3304, 'gasp': 3305, 'lodg': 3306, 'coward': 3307, 'x16': 3308, 'wreckag': 3309, 'reveri': 3310, 'alibi': 3311, 'accessori': 3312, 'dealer': 3313, 'benefit': 3314, 'mankind': 3315, 'lightli': 3316, 'dreami': 3317, 'bind': 3318, 'vamp': 3319, 'guidanc': 3320, 'skirt': 3321, 'massag': 3322, 'tye': 3323, 'rancid': 3324, 'suspend': 3325, 'horizon': 3326, 'wiser': 3327, 'incarn': 3328, 'graduat': 3329, 'messin': 3330, 'teari': 3331, 'politician': 3332, 'tipper': 3333, 'ministri': 3334, 'rendezv': 3335, 'abil': 3336, 'awkward': 3337, 'immatur': 3338, 'schedul': 3339, 'guaranti': 3340, 'misunderstand': 3341, 'addit': 3342, 'seren': 3343, 'jugular': 3344, 'vein': 3345, 'behavior': 3346, '31': 3347, 'toke': 3348, 'poker': 3349, 'groovi': 3350, 'sickl': 3351, 'soprano': 3352, 'vike': 3353, 'missil': 3354, 'especi': 3355, 'lotteri': 3356, 'dinero': 3357, 'farmer': 3358, 'print': 3359, 'currier': 3360, 'avert': 3361, 'indecis': 3362, 'haircut': 3363, 'cushi': 3364, 'cheerlead': 3365, 'fiction': 3366, 'involv': 3367, 'tail': 3368, 'clank': 3369, 'assign': 3370, 'penanc': 3371, 'wealthi': 3372, 'centuri': 3373, 'radar': 3374, 'decod': 3375, 'frenzi': 3376, 'spiral': 3377, 'destin': 3378, 'messeng': 3379, 'borderlin': 3380, 'astrolog': 3381, 'report': 3382, 'domest': 3383, 'turmoil': 3384, 'physiqu': 3385, 'equal': 3386, 'environ': 3387, 'injustic': 3388, 'deposit': 3389, 'overpass': 3390, 'hallow': 3391, 'satin': 3392, 'custom': 3393, 'fourteen': 3394, 'groceri': 3395, 'bunch': 3396, 'dissolv': 3397, 'corrupt': 3398, 'dogma': 3399, 'plot': 3400, 'contrit': 3401, 'unifi': 3402, 'cycl': 3403, 'empir': 3404, 'barb': 3405, 'plier': 3406, 'vise': 3407, 'saver': 3408, 'stunner': 3409, 'bummer': 3410, 'phenomenon': 3411, 'armor': 3412, 'coma': 3413, 'kon': 3414, 'salli': 3415, 'pyramid': 3416, 'tower': 3417, 'worsen': 3418, 'stationari': 3419, 'rucku': 3420, 'sub': 3421, 'doe': 3422, 'finess': 3423, 'yoke': 3424, 'statist': 3425, 'futurist': 3426, 'ballist': 3427, 'eccentr': 3428, 'hapless': 3429, 'dissip': 3430, 'floral': 3431, 'submit': 3432, 'incent': 3433, 'painless': 3434, 'myriad': 3435, 'retir': 3436, 'qualiti': 3437, 'spanner': 3438, 'washroom': 3439, 'personnel': 3440, 'caretak': 3441, 'watchdog': 3442, 'rabi': 3443, 'foreman': 3444, 'switchboard': 3445, 'monetari': 3446, 'philosophi': 3447, 'theolog': 3448, 'econom': 3449, 'declar': 3450, 'brewer': 3451, 'droop': 3452, 'prescript': 3453, 'thunderstruck': 3454, 'sap': 3455, 'incarcer': 3456, 'gassi': 3457, 'abolish': 3458, 'cline': 3459, '58': 3460, 'insepar': 3461, 'spectacular': 3462, 'massiv': 3463, 'negro': 3464, 'anda': 3465, 'punto': 3466, 'servidor': 3467, 'meta': 3468, 'familia': 3469, 'dama': 3470, 'largo': 3471, 'pronto': 3472, 'bloat': 3473, 'shooter': 3474, 'straw': 3475, 'stank': 3476, 'prank': 3477, 'looser': 3478, 'crunk': 3479, '2d': 3480, 'spigot': 3481, 'snot': 3482, 'hymen': 3483, 'jar': 3484, 'dapper': 3485, 'exposur': 3486, 'nun': 3487, 'thong': 3488, 'billabong': 3489, 'gorilla': 3490, 'oftentim': 3491, 'flamingo': 3492, 'lingo': 3493, 'umbrella': 3494, 'kink': 3495, 'crayon': 3496, 'runner': 3497, 'filth': 3498, 'virtual': 3499, 'spectacl': 3500, 'poverti': 3501, 'creami': 3502, 'chauffeur': 3503, 'lux': 3504, 'bossi': 3505, 'conto': 3506, 'quasi': 3507, 'cane': 3508, 'via': 3509, 'ore': 3510, 'piazza': 3511, 'sar': 3512, 'basta': 3513, 'scena': 3514, 'headfirst': 3515, 'altern': 3516, 'revolt': 3517, 'routin': 3518, 'appear': 3519, 'openli': 3520, 'freeness': 3521, 'shorter': 3522, 'undertow': 3523, 'afir': 3524, 'straddl': 3525, 'revolutionari': 3526, 'scari': 3527, 'provok': 3528, 'adapt': 3529, 'cascad': 3530, 'cleaner': 3531, 'swan': 3532, 'thrash': 3533, 'paddl': 3534, 'recip': 3535, 'dish': 3536, 'entic': 3537, 'rim': 3538, 'mater': 3539, 'focu': 3540, 'rabbit': 3541, 'teacher': 3542, 'process': 3543, 'mope': 3544, 'tinkl': 3545, 'pixi': 3546, 'greeneri': 3547, 'poke': 3548, 'swordfish': 3549, 'tuxedo': 3550, 'noir': 3551, 'bath': 3552, '1996': 3553, 'brad': 3554, 'cue': 3555, 'corp': 3556, 'limit': 3557, '69': 3558, 'nae': 3559, 'bogo': 3560, 'ne': 3561, 'geo': 3562, '1954': 3563, 'gale': 3564, '73': 3565, '1961': 3566, 'teicher': 3567, '1965': 3568, 'butler': 3569, 'turner': 3570, 'artifici': 3571, 'attend': 3572, 'bel': 3573, 'unti': 3574, 'gape': 3575, 'enlighten': 3576, 'nanci': 3577, 'seed': 3578, 'toil': 3579, 'inclin': 3580, 'indulg': 3581, 'yesteryear': 3582, 'idl': 3583, 'decay': 3584, 'slaveri': 3585, 'racist': 3586, 'peck': 3587, 'heck': 3588, 'flop': 3589, 'primer': 3590, 'belt': 3591, 'mode': 3592, 'papoos': 3593, '4am': 3594, 'cracker': 3595, 'exe': 3596, 'function': 3597, '305': 3598, 'luke': 3599, 'slop': 3600, 'tay': 3601, '767': 3602, 'crept': 3603, 'threat': 3604, 'foli': 3605, 'rebut': 3606, 'parachut': 3607, 'sermon': 3608, 'cousin': 3609, 'arsen': 3610, 'author': 3611, 'arthriti': 3612, 'carpel': 3613, 'headach': 3614, 'dynamit': 3615, 'lunat': 3616, 'jelli': 3617, 'belli': 3618, 'soften': 3619, 'recours': 3620, 'willow': 3621, 'bellow': 3622, 'mellow': 3623, 'asphyxi': 3624, 'slain': 3625, '44': 3626, 'unwillingli': 3627, 'salvag': 3628, 'loath': 3629, 'coax': 3630, 'cartoon': 3631, 'pastim': 3632, 'proper': 3633, 'procedur': 3634, 'circumst': 3635, 'thunderbolt': 3636, '65': 3637, 'hooter': 3638, 'moos': 3639, 'raffl': 3640, 'wheeler': 3641, 'golf': 3642, 'heav': 3643, 'teller': 3644, 'recognit': 3645, 'gunfir': 3646, 'resound': 3647, 'relentless': 3648, 'anchor': 3649, 'menu': 3650, 'sordid': 3651, 'cautiou': 3652, 'brief': 3653, 'instant': 3654, 'knowledg': 3655, 'starlit': 3656, 'disarray': 3657, 'erod': 3658, 'bottin': 3659, 'tercia': 3660, 'iva': 3661, 'immigr': 3662, 'elit': 3663, 'drawer': 3664, 'prima': 3665, 'sax': 3666, 'astral': 3667, 'winner': 3668, 'brine': 3669, 'fleec': 3670, 'bouquet': 3671, 'dozen': 3672, 'perceiv': 3673, 'strangl': 3674, 'spook': 3675, 'disprov': 3676, 'pet': 3677, 'uneven': 3678, 'steril': 3679, 'rout': 3680, 'cab': 3681, 'suggest': 3682, 'perpetu': 3683, 'crumpl': 3684, 'inhuman': 3685, 'honeycomb': 3686, 'inner': 3687, 'reneg': 3688, 'peril': 3689, 'leader': 3690, 'motherland': 3691, 'booz': 3692, 'pickup': 3693, 'rowdi': 3694, 'amen': 3695, 'ado': 3696, 'chug': 3697, 'uncertainti': 3698, 'souvenir': 3699, 'tourist': 3700, 'brillianc': 3701, 'perpendicular': 3702, 'globe': 3703, 'whirlpool': 3704, '64': 3705, 'pavilion': 3706, 'bench': 3707, 'depot': 3708, 'humid': 3709, 'stanc': 3710, 'bodyguard': 3711, 'tactic': 3712, 'diver': 3713, '5001': 3714, 'catwalk': 3715, 'ungodli': 3716, 'torrent': 3717, 'bin': 3718, 'detect': 3719, 'wrath': 3720, 'engrain': 3721, '1ll': 3722, 'trickl': 3723, 'youd': 3724, 'demis': 3725, 'handsom': 3726, 'criteria': 3727, 'vener': 3728, 'menstrual': 3729, 'pencil': 3730, 'tablet': 3731, 'chit': 3732, 'copper': 3733, 'goon': 3734, 'rascal': 3735, 'tassel': 3736, 'brake': 3737, 'napalm': 3738, 'kamikaz': 3739, 'chilli': 3740, 'guinea': 3741, 'skeet': 3742, 'ref': 3743, 'excel': 3744, 'robot': 3745, 'dessert': 3746, 'sherbet': 3747, 'nurseri': 3748, 'bowel': 3749, 'mower': 3750, 'gravi': 3751, 'drill': 3752, 'limb': 3753, 'coincid': 3754, 'hairi': 3755, 'nosey': 3756, 'custodi': 3757, 'revolv': 3758, 'femal': 3759, 'transmiss': 3760, 'carl': 3761, 'cart': 3762, 'alien': 3763, 'student': 3764, 'rear': 3765, 'solar': 3766, 'privileg': 3767, 'ralli': 3768, 'composit': 3769, 'smog': 3770, 'unspeak': 3771, 'slayer': 3772, 'halv': 3773, 'puriti': 3774, 'comedi': 3775, 'comedian': 3776, 'wage': 3777, 'licens': 3778, 'bail': 3779, 'scorn': 3780, 'contempt': 3781, 'exempt': 3782, 'getter': 3783, 'stutter': 3784, 'stammer': 3785, 'iri': 3786, 'primal': 3787, 'audibl': 3788, 'length': 3789, 'arriba': 3790, 'apropo': 3791, 'overs': 3792, 'bartend': 3793, 'heed': 3794, 'hyperventil': 3795, 'lumberyard': 3796, 'jo': 3797, 'interior': 3798, 'remedi': 3799, 'prejudic': 3800, 'prostitut': 3801, 'credit': 3802, 'disput': 3803, 'ruffl': 3804, 'shaki': 3805, 'gleam': 3806, 'campaign': 3807, 'mingl': 3808, 'fanci': 3809, 'neat': 3810, 'sprinkl': 3811, 'malic': 3812, 'slim': 3813, 'bun': 3814, 'yuh': 3815, 'morgu': 3816, 'project': 3817, 'unfad': 3818, '5000': 3819, 'warili': 3820, 'cheat': 3821, 'seep': 3822, 'whoo': 3823, 'chirp': 3824, '1973': 3825, 'liner': 3826, 'riffraff': 3827, 'hint': 3828, 'abu': 3829, 'plume': 3830, 'outrag': 3831, 'hasti': 3832, 'hoof': 3833, 'windowpan': 3834, 'beckon': 3835, 'interpret': 3836, 'compens': 3837, 'wrestl': 3838, 'shellfish': 3839, 'selfish': 3840, 'arteri': 3841, 'appar': 3842, 'parasit': 3843, 'parodi': 3844, 'optic': 3845, 'festiv': 3846, 'withstand': 3847, 'prude': 3848, 'prender': 3849, 'werent': 3850, 'cargo': 3851, '23': 3852, '100': 3853, 'florist': 3854, 'enorm': 3855, 'buffet': 3856, 'nurs': 3857, 'unprotect': 3858, 'camera': 3859, 'aviso': 3860, 'jiggi': 3861, 'pasan': 3862, 'microscop': 3863, 'waiter': 3864, 'trucker': 3865, '5x': 3866, '3rd': 3867, 'mast': 3868, 'dolphin': 3869, 'marlin': 3870, 'goodwil': 3871, 'throughout': 3872, 'passport': 3873, 'daydream': 3874, 'speck': 3875, 'galaxi': 3876, 'deer': 3877, '50': 3878, '76': 3879, '82': 3880, 'aye': 3881, 'nauseou': 3882, 'jour': 3883, 'effac': 3884, 'vill': 3885, 'primit': 3886, 'packag': 3887, 'jing': 3888, 'smolder': 3889, 'pinbal': 3890, '52nd': 3891, 'broadway': 3892, 'launcher': 3893, 'chant': 3894, 'freshman': 3895, 'caravan': 3896, 'skippi': 3897, 'unchain': 3898, 'lanc': 3899, 'mortal': 3900, 'rib': 3901, 'permiss': 3902, 'doll': 3903, 'padr': 3904, 'albino': 3905, 'callo': 3906, 'mont': 3907, 'pond': 3908, 'worm': 3909, 'pinki': 3910, 'pucker': 3911, 'pimpl': 3912, 'zig': 3913, 'zag': 3914, 'crome': 3915, 'buss': 3916, 'surplu': 3917, 'greater': 3918, 'lyricist': 3919, 'sophist': 3920, 'cocktail': 3921, 'dolli': 3922, 'wig': 3923, 'brassi': 3924, 'brazen': 3925, 'tacki': 3926, 'courtroom': 3927, 'accid': 3928, 'twister': 3929, 'teenag': 3930, 'lobotomi': 3931, 'hong': 3932, 'aswel': 3933, 'gentleman': 3934, 'shanghai': 3935, 'schuh': 3936, 'wer': 3937, 'lippen': 3938, 'warst': 3939, 'augen': 3940, 'verse3': 3941, 'sonar': 3942, 'filo': 3943, 'mundan': 3944, 'etch': 3945, 'subtl': 3946, 'quirk': 3947, 'evolut': 3948, 'recreat': 3949, 'fatuou': 3950, 'lazi': 3951, 'blurri': 3952, 'lush': 3953, 'whiski': 3954, 'testifi': 3955, 'amput': 3956, 'dull': 3957, 'graze': 3958, 'undiscov': 3959, 'cemeteri': 3960, 'mercenari': 3961, 'marco': 3962, 'delta': 3963, 'proven': 3964, 'assum': 3965, 'percept': 3966, 'herbal': 3967, 'essenc': 3968, 'vade': 3969, 'visit': 3970, 'skew': 3971, 'beck': 3972, 'circul': 3973, 'perhap': 3974, 'allevi': 3975, 'nonsens': 3976, 'terrif': 3977, 'tobacco': 3978, 'cooper': 3979, 'criss': 3980, 'ammo': 3981, 'snub': 3982, 'phoenix': 3983, 'invest': 3984, 'polish': 3985, 'idol': 3986, 'drugstor': 3987, 'hardwar': 3988, '1964': 3989, 'shorthand': 3990, 'linger': 3991, 'rins': 3992, 'gargl': 3993, 'scrabbl': 3994, 'drawl': 3995, 'babbl': 3996, 'jargon': 3997, 'leopard': 3998, 'slaughter': 3999}\n"
     ]
    }
   ],
   "source": [
    "print(word_dict)"
   ]
  },
  {
   "cell_type": "code",
   "execution_count": null,
   "metadata": {},
   "outputs": [],
   "source": []
  },
  {
   "cell_type": "code",
   "execution_count": null,
   "metadata": {},
   "outputs": [],
   "source": []
  },
  {
   "cell_type": "code",
   "execution_count": null,
   "metadata": {},
   "outputs": [],
   "source": []
  },
  {
   "cell_type": "markdown",
   "metadata": {},
   "source": [
    "## Clean up Resources\n"
   ]
  },
  {
   "cell_type": "code",
   "execution_count": 17,
   "metadata": {},
   "outputs": [
    {
     "ename": "NameError",
     "evalue": "name 'project_predictor' is not defined",
     "output_type": "error",
     "traceback": [
      "\u001b[0;31m---------------------------------------------------------------------------\u001b[0m",
      "\u001b[0;31mNameError\u001b[0m                                 Traceback (most recent call last)",
      "\u001b[0;32m<ipython-input-17-6d86e350b852>\u001b[0m in \u001b[0;36m<module>\u001b[0;34m\u001b[0m\n\u001b[0;32m----> 1\u001b[0;31m \u001b[0mproject_predictor\u001b[0m\u001b[0;34m.\u001b[0m\u001b[0mendpoint\u001b[0m\u001b[0;34m\u001b[0m\u001b[0;34m\u001b[0m\u001b[0m\n\u001b[0m",
      "\u001b[0;31mNameError\u001b[0m: name 'project_predictor' is not defined"
     ]
    }
   ],
   "source": [
    "project_predictor.endpoint"
   ]
  },
  {
   "cell_type": "code",
   "execution_count": 58,
   "metadata": {},
   "outputs": [
    {
     "data": {
      "text/plain": [
       "{'ResponseMetadata': {'RequestId': 'fbb6e7c9-6a14-44e4-99f2-74145bce0eac',\n",
       "  'HTTPStatusCode': 200,\n",
       "  'HTTPHeaders': {'x-amzn-requestid': 'fbb6e7c9-6a14-44e4-99f2-74145bce0eac',\n",
       "   'content-type': 'application/x-amz-json-1.1',\n",
       "   'content-length': '0',\n",
       "   'date': 'Sun, 02 May 2021 18:15:37 GMT'},\n",
       "  'RetryAttempts': 0}}"
      ]
     },
     "execution_count": 58,
     "metadata": {},
     "output_type": "execute_result"
    }
   ],
   "source": [
    "boto3.client('sagemaker').delete_endpoint(EndpointName=project_predictor.endpoint)\n"
   ]
  },
  {
   "cell_type": "code",
   "execution_count": null,
   "metadata": {},
   "outputs": [],
   "source": [
    "bucket_to_delete = boto3.resource('s3').Bucket(bucket)\n",
    "bucket_to_delete.objects.all().delete()"
   ]
  }
 ],
 "metadata": {
  "kernelspec": {
   "display_name": "conda_pytorch_p36",
   "language": "python",
   "name": "conda_pytorch_p36"
  },
  "language_info": {
   "codemirror_mode": {
    "name": "ipython",
    "version": 3
   },
   "file_extension": ".py",
   "mimetype": "text/x-python",
   "name": "python",
   "nbconvert_exporter": "python",
   "pygments_lexer": "ipython3",
   "version": "3.6.13"
  }
 },
 "nbformat": 4,
 "nbformat_minor": 4
}
